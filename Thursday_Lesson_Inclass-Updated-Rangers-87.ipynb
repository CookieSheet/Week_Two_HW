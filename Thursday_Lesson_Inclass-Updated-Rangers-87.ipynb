{
 "cells": [
  {
   "cell_type": "markdown",
   "metadata": {},
   "source": [
    "# User-Defined Functions, Scoping, & Decorators"
   ]
  },
  {
   "cell_type": "markdown",
   "metadata": {},
   "source": [
    "## Tasks Today:\n",
    "\n",
    "\n",
    "1) Functions <br>\n",
    " &nbsp;&nbsp;&nbsp;&nbsp; a) User-Defined vs. Built-In Functions <br>\n",
    " &nbsp;&nbsp;&nbsp;&nbsp; b) Accepting Parameters <br>\n",
    " &nbsp;&nbsp;&nbsp;&nbsp; c) Default Parameters <br>\n",
    " &nbsp;&nbsp;&nbsp;&nbsp; d) Making an Argument Optional <br>\n",
    " &nbsp;&nbsp;&nbsp;&nbsp; e) Keyword Arguments <br>\n",
    " &nbsp;&nbsp;&nbsp;&nbsp; f) Returning Values <br>\n",
    " &nbsp;&nbsp;&nbsp;&nbsp; g) *args <br>\n",
    " &nbsp;&nbsp;&nbsp;&nbsp; h) Docstring <br>\n",
    " &nbsp;&nbsp;&nbsp;&nbsp; i) Using a User Function in a Loop <br>\n",
    "2) Scope <br>\n",
    "3) Creating more User-Defined functions <br>\n",
    "4) Decorators <br>"
   ]
  },
  {
   "cell_type": "markdown",
   "metadata": {},
   "source": [
    "\n",
    "## Functions"
   ]
  },
  {
   "cell_type": "markdown",
   "metadata": {},
   "source": [
    "##### User-Defined vs. Built-In Functions"
   ]
  },
  {
   "cell_type": "code",
   "execution_count": 2,
   "metadata": {},
   "outputs": [
    {
     "name": "stdout",
     "output_type": "stream",
     "text": [
      "Hello\n",
      "<function say_hello at 0x7fe695287430>\n",
      "Hello World\n"
     ]
    }
   ],
   "source": [
    "# Built_in Function\n",
    "print(\"Hello\")\n",
    "\n",
    "# User_Define Function\n",
    "def say_hello():\n",
    "    return \"Hello World\"\n",
    "\n",
    "# show the function in memory\n",
    "print(say_hello)\n",
    "\n",
    "# Calling a function\n",
    "print(say_hello())"
   ]
  },
  {
   "cell_type": "markdown",
   "metadata": {},
   "source": [
    "##### Accepting Parameters"
   ]
  },
  {
   "cell_type": "code",
   "execution_count": 4,
   "metadata": {
    "scrolled": true
   },
   "outputs": [
    {
     "name": "stdout",
     "output_type": "stream",
     "text": [
      " Hello my full name is Michael Cook.\n",
      " Hello my full name is Cook Michael.\n"
     ]
    }
   ],
   "source": [
    "# Order matters\n",
    "# a variable (parameter) can be any type of object\n",
    "\n",
    "first = \"Michael\"\n",
    "last = \"Cook\"\n",
    "\n",
    "def print_full_name(first_name, last_name): # placeholders for positional arguments\n",
    "    return f\" Hello my full name is {first_name} {last_name}.\"\n",
    "\n",
    "print(print_full_name(first, last))\n",
    "print(print_full_name(last, first))"
   ]
  },
  {
   "cell_type": "markdown",
   "metadata": {},
   "source": [
    "##### Default Parameters"
   ]
  },
  {
   "cell_type": "code",
   "execution_count": 11,
   "metadata": {},
   "outputs": [
    {
     "name": "stdout",
     "output_type": "stream",
     "text": [
      "The name is Bond... James Bond.\n",
      "The name is Brown... James Brown.\n",
      "The name is Bond... Jimmy Bond.\n"
     ]
    }
   ],
   "source": [
    "# Default parameters must come after non_default parameters at all times\n",
    "def agent_name(first_name, last_name = \"Bond\"):\n",
    "    return f\"The name is {last_name}... {first_name} {last_name}.\"\n",
    "\n",
    "print(agent_name(\"James\"))\n",
    "print(agent_name(\"James\",last_name = \"Brown\"))\n",
    "print(agent_name(\"Jimmy\"))\n",
    "\n",
    "# Dont do this\n",
    "# def agent_name_again(last_name = \"Bond\", first_name):\n",
    "#     return f\"The name is {last_name}... {first_name} {last_name}.\"\n",
    "\n",
    "# print(agent_name_again(\"Jimbo\"))"
   ]
  },
  {
   "cell_type": "code",
   "execution_count": 13,
   "metadata": {},
   "outputs": [
    {
     "name": "stdout",
     "output_type": "stream",
     "text": [
      "Your birthday is the 24th day of April and you were born in 1960!\n"
     ]
    }
   ],
   "source": [
    "def march_bday(day, year, month = \"March\"):\n",
    "    return f\"Your birthday is the {day}th day of {month} and you were born in {year}!\"\n",
    "print(march_bday(24, 1960, \"April\"))"
   ]
  },
  {
   "cell_type": "markdown",
   "metadata": {},
   "source": [
    "##### Making an Argument Optional"
   ]
  },
  {
   "cell_type": "code",
   "execution_count": 15,
   "metadata": {},
   "outputs": [
    {
     "name": "stdout",
     "output_type": "stream",
     "text": [
      "Hello Mr.  Ed\n",
      "Hello Sea Biscuit Ed\n"
     ]
    }
   ],
   "source": [
    "def horse_name(first, middle='', last='Ed'):\n",
    "    return f\"Hello {first} {middle} {last}\"\n",
    "print(horse_name('Mr.'))\n",
    "print(horse_name('Sea', \"Biscuit\"))"
   ]
  },
  {
   "cell_type": "markdown",
   "metadata": {},
   "source": [
    "##### Keyword Arguments"
   ]
  },
  {
   "cell_type": "code",
   "execution_count": 18,
   "metadata": {},
   "outputs": [
    {
     "name": "stdout",
     "output_type": "stream",
     "text": [
      "Bruce's power is money. \n"
     ]
    }
   ],
   "source": [
    "# you can access an argument by it's keyword out of the original order\n",
    "def hero(name, power = 'flying'):\n",
    "    return f\"{name}'s power is {power}. \"\n",
    "print(hero(power = 'money',name = \"Bruce\"))"
   ]
  },
  {
   "cell_type": "markdown",
   "metadata": {},
   "source": [
    "### Create a function(or two) that accepts positional, default, and optional arguments..."
   ]
  },
  {
   "cell_type": "code",
   "execution_count": null,
   "metadata": {},
   "outputs": [],
   "source": [
    "def petUgly(name, pet, adj = \"ugly\"):\n",
    "    return f\"Your {pet}'s name is {name}. It is very {adj}!\"\n",
    "\n",
    "def popGrowth(original_p, e, k, t):\n",
    "    return original_p * (e ** (k * t) \n"
   ]
  },
  {
   "cell_type": "markdown",
   "metadata": {},
   "source": [
    "# Creating a start, stop, step function"
   ]
  },
  {
   "cell_type": "code",
   "execution_count": 20,
   "metadata": {},
   "outputs": [
    {
     "name": "stdout",
     "output_type": "stream",
     "text": [
      "2\n",
      "5\n",
      "8\n",
      "11\n"
     ]
    }
   ],
   "source": [
    "def my_range(stop, start = 0, step = 1):\n",
    "    for i in range(start, stop, step):\n",
    "        print(i)\n",
    "        \n",
    "my_range(13,2,3)"
   ]
  },
  {
   "cell_type": "markdown",
   "metadata": {},
   "source": [
    "##### Returning Values"
   ]
  },
  {
   "cell_type": "code",
   "execution_count": 21,
   "metadata": {},
   "outputs": [
    {
     "data": {
      "text/plain": [
       "100"
      ]
     },
     "execution_count": 21,
     "metadata": {},
     "output_type": "execute_result"
    }
   ],
   "source": [
    "def add_nums(num1, num2):\n",
    "    return num1 + num2\n",
    "add_nums(56, 44)"
   ]
  },
  {
   "cell_type": "raw",
   "metadata": {},
   "source": [
    "*args / **kwargs (keyword arguments)"
   ]
  },
  {
   "cell_type": "code",
   "execution_count": 22,
   "metadata": {},
   "outputs": [
    {
     "name": "stdout",
     "output_type": "stream",
     "text": [
      "1\n",
      "(10, 'megazord')\n",
      "{'trekies': ['Warf', 'Data'], 'subject': 'Python'}\n"
     ]
    }
   ],
   "source": [
    "def pirates(num1, *args, **kwargs):\n",
    "    print(num1)\n",
    "    print(args)\n",
    "    print(kwargs)\n",
    "    \n",
    "pirates(1, 10, \"megazord\", trekies = ['Warf', 'Data'], subject = 'Python')"
   ]
  },
  {
   "cell_type": "code",
   "execution_count": 30,
   "metadata": {},
   "outputs": [
    {
     "name": "stdout",
     "output_type": "stream",
     "text": [
      "all\n",
      "(10, 'episodes')\n",
      "{'anime': ['Naruto', 'Hunter X Hunter', 'Vampire Hunter D'], 'picard': 'borg'}\n"
     ]
    }
   ],
   "source": [
    "# Write a function that accepts args and kwargs and print out each arg and kwarg on its own line. \n",
    "\n",
    "def geeks(watch, *ep, **kwargs):\n",
    "    print(watch)\n",
    "    print(ep)\n",
    "    print(kwargs)\n",
    "    \n",
    "geeks(\"all\", 10, \"episodes\", anime = ['Naruto', 'Hunter X Hunter', \"Vampire Hunter D\"], picard = 'borg',)"
   ]
  },
  {
   "cell_type": "markdown",
   "metadata": {},
   "source": [
    "##### Docstring"
   ]
  },
  {
   "cell_type": "code",
   "execution_count": 31,
   "metadata": {},
   "outputs": [
    {
     "name": "stdout",
     "output_type": "stream",
     "text": [
      "Sylvester\n",
      "Tweety\n"
     ]
    }
   ],
   "source": [
    "def print_names(list_1):\n",
    "    \"\"\"\n",
    "        print_names(list_1)\n",
    "        Function requires a list to be passsed as a parameter\n",
    "        ab wikk print the contents of the list. Expecting\n",
    "        a list of names(strings) to be passed.\n",
    "    \n",
    "    \"\"\"\n",
    "    \n",
    "    for name in list_1:\n",
    "        print(name)\n",
    "        \n",
    "print_names(['Sylvester', 'Tweety'])"
   ]
  },
  {
   "cell_type": "markdown",
   "metadata": {},
   "source": [
    "##### Using a User Function in a Loop"
   ]
  },
  {
   "cell_type": "code",
   "execution_count": 32,
   "metadata": {},
   "outputs": [
    {
     "name": "stdout",
     "output_type": "stream",
     "text": [
      "What do you want to do? I don't know\n",
      "your answer is: I don't know\n",
      "Ready ro quit?nah\n",
      "What do you want to do? Eat\n",
      "your answer is: Eat\n",
      "Ready ro quit?YES\n"
     ]
    }
   ],
   "source": [
    "def print_input(answer):\n",
    "    print(f\"your answer is: {answer}\")\n",
    "    \n",
    "while True:\n",
    "    ask = input(\"What do you want to do? \")\n",
    "    \n",
    "    print_input(ask)\n",
    "    \n",
    "    response = input(\"Ready ro quit?\")\n",
    "    if response.lower() == \"yes\" :\n",
    "        break\n",
    "        "
   ]
  },
  {
   "cell_type": "markdown",
   "metadata": {},
   "source": [
    "## Function Exercises <br>\n",
    "### Exercise 1\n",
    "<p>Write a function that loops through a list of first_names and a list of last_names, combines the two and return a list of full_names</p>"
   ]
  },
  {
   "cell_type": "code",
   "execution_count": 48,
   "metadata": {},
   "outputs": [
    {
     "data": {
      "text/plain": [
       "['John Smith', 'Evan Smith', 'Jordan Williams', 'Max Bell']"
      ]
     },
     "execution_count": 48,
     "metadata": {},
     "output_type": "execute_result"
    }
   ],
   "source": [
    "first_name = ['John', 'Evan', 'Jordan', 'Max']\n",
    "last_name = ['Smith', 'Smith', 'Williams', 'Bell']\n",
    "\n",
    "# Output: ['John Smith', 'Evan Smith', 'Jordan Williams', 'Max Bell']\n",
    "def full_name(first_name, last_name):\n",
    "    list_of_names = []\n",
    "    for i in range(len(first_name)):\n",
    "        full_name = first_name[i] + \" \" + last_name[i]\n",
    "        list_of_names.append(full_name)\n",
    "    print(list_of_names)\n",
    "    \n",
    "def full_name2(first_name, last_name):\n",
    "    return [first_name[i] + \" \" + last_name[i] for i in range(len(first_name))]\n",
    "\n",
    "full_name2(first_name, last_name)\n",
    "    "
   ]
  },
  {
   "cell_type": "markdown",
   "metadata": {},
   "source": [
    "### Exercise 2\n",
    "Create a function that alters all values in the given list by subtracting 5 and then doubling them."
   ]
  },
  {
   "cell_type": "code",
   "execution_count": 83,
   "metadata": {
    "scrolled": true
   },
   "outputs": [
    {
     "name": "stdout",
     "output_type": "stream",
     "text": [
      "[0, 10, 20, 30, -4]\n"
     ]
    }
   ],
   "source": [
    "input_list = [5,10,15,20,3]\n",
    "\n",
    "def doMath(in_list):\n",
    "    return [(in_list[i] - 5) * 2 for i in range(len(in_list))]\n",
    "    \n",
    "print(doMath(input_list))\n"
   ]
  },
  {
   "cell_type": "markdown",
   "metadata": {},
   "source": [
    "### Exercise 2 BONUS\n",
    "Create a function that alters all values in the given list with a second function taken as a parameter."
   ]
  },
  {
   "cell_type": "code",
   "execution_count": 106,
   "metadata": {
    "scrolled": true
   },
   "outputs": [
    {
     "data": {
      "text/plain": [
       "[0, 10, 20, 30, -4]"
      ]
     },
     "execution_count": 106,
     "metadata": {},
     "output_type": "execute_result"
    }
   ],
   "source": [
    "input_list = [5,10,15,20,3]\n",
    "\n",
    "def func2(value):\n",
    "    return (value - 5) * 2\n",
    "    \n",
    "def list_item_add(a_list, function):\n",
    "    return [function(x) for x in a_list]\n",
    "\n",
    "list_item_add(input_list, func2)\n"
   ]
  },
  {
   "cell_type": "markdown",
   "metadata": {},
   "source": [
    "### Exercise 3\n",
    "Create a function that takes in a list of strings and filters out the strings that DO NOT contain vowels. "
   ]
  },
  {
   "cell_type": "code",
   "execution_count": 119,
   "metadata": {},
   "outputs": [
    {
     "name": "stdout",
     "output_type": "stream",
     "text": [
      "['Sheldon', 'Sheldon', 'Sheldon', 'Sheldon', 'Sheldon', 'Pnny', 'Pnny', 'Pnny', 'Pnny', 'Pnny', 'Leonard', 'Leonard', 'Leonard', 'Leonard', 'Leonard', 'Hwrd', 'Hwrd', 'Hwrd', 'Hwrd', 'Hwrd', 'Rj', 'Rj', 'Rj', 'Rj', 'Rj', 'Amy', 'Amy', 'Amy', 'Amy', 'Amy', 'Strt', 'Strt', 'Strt', 'Strt', 'Strt']\n"
     ]
    }
   ],
   "source": [
    "string_list = ['Sheldon','Pnny','Leonard','Hwrd','Rj','Amy','Strt']\n",
    "# output = ['Sheldon','Leonard','Amy']\n",
    "\n",
    "def vowels_only(a_list):\n",
    "    new_list = []\n",
    "    for i in a_list:\n",
    "        for j in 'aeiou':\n",
    "            if char in string.lower:\n",
    "                new_list.append(string)\n",
    "            new_list.append(i.title())\n",
    "        \n",
    "#         if 'a' in i or 'e' in i or 'i' in i or 'o' in i or 'u' in i:\n",
    "#             new_list.append(i.title()) \n",
    "    print(new_list)\n",
    "    \n",
    "    \n",
    "vowels_only(string_list)\n",
    "\n",
    "# def vowels_only(a_list):\n",
    "#     new_list = []\n",
    "#     for i in a_list:\n",
    "#         i = i.lower()\n",
    "#         if 'a' in i or 'e' in i or 'i' in i or 'o' in i or 'u' in i:\n",
    "#             new_list.append(i.title()) \n",
    "#     print(new_list)\n",
    "    \n",
    "    \n",
    "# vowels_only(string_list)"
   ]
  },
  {
   "cell_type": "markdown",
   "metadata": {},
   "source": [
    "### Exercise 4\n",
    "Create a function that accepts a list as a parameter and returns a dictionary containing the list items as it's keys, and the number of times they appear in the list as the values"
   ]
  },
  {
   "cell_type": "code",
   "execution_count": 133,
   "metadata": {},
   "outputs": [
    {
     "name": "stdout",
     "output_type": "stream",
     "text": [
      "{'Ron': 4, 'Draco': 1, 'Dobby': 1, 'Harry': 3, 'Luna': 1, 'Hermione': 2}\n"
     ]
    }
   ],
   "source": [
    "example_list = [\"Harry\", 'Hermione','Harry','Ron','Dobby','Draco','Luna','Harry','Hermione','Ron','Ron','Ron']\n",
    "\n",
    "# output = {\n",
    "#     \"Harry\":3,\n",
    "#     \"Hermione\":2,\n",
    "#     \"Ron\":4,\n",
    "#     \"Dobby\":1,\n",
    "#     \"Draco\":1,\n",
    "#     \"Luna\": 1\n",
    "# }\n",
    "\n",
    "# new_dict = {}\n",
    "# for i in example_list:\n",
    "#     if i not in new_dict:\n",
    "#         new_dict[i] = example_list.count(i)\n",
    "        \n",
    "# print(new_dict)\n",
    "\n",
    "def counter(example_list):\n",
    "    return {i : example_list.count(i) for i in set(example_list)}\n",
    "\n",
    "print(counter(example_list))\n"
   ]
  },
  {
   "cell_type": "markdown",
   "metadata": {},
   "source": [
    "\n",
    "\n",
    "## Scope <br>\n",
    "<p>Scope refers to the ability to access variables, different types of scope include:<br>a) Global<br>b) Function (local)<br>c) Class (local)</p>"
   ]
  },
  {
   "cell_type": "code",
   "execution_count": 117,
   "metadata": {},
   "outputs": [
    {
     "name": "stdout",
     "output_type": "stream",
     "text": [
      "3\n",
      "6\n"
     ]
    }
   ],
   "source": [
    "# placement of variable declaration matters\n",
    "\n",
    "number = 3 # Gloal Variable\n",
    "\n",
    "def myFunc():\n",
    "    num_3 = 6 # Local Function Variable\n",
    "    return num_3\n",
    "\n",
    "print(number)\n",
    "return_num = myFunc()\n",
    "print(return_num)\n",
    "# print(num_3)"
   ]
  },
  {
   "cell_type": "markdown",
   "metadata": {},
   "source": [
    " #### Returning a Function from a Function"
   ]
  },
  {
   "cell_type": "code",
   "execution_count": 135,
   "metadata": {},
   "outputs": [
    {
     "name": "stdout",
     "output_type": "stream",
     "text": [
      "<function outer_func.<locals>.inner_func at 0x7fe69531f790>\n"
     ]
    },
    {
     "data": {
      "text/plain": [
       "'f inner_func with added {text}'"
      ]
     },
     "execution_count": 135,
     "metadata": {},
     "output_type": "execute_result"
    }
   ],
   "source": [
    "def outer_func(text):\n",
    "    \n",
    "    def inner_func():\n",
    "        return \"f inner_func with added {text}\"\n",
    "    return inner_func\n",
    "\n",
    "var = outer_func(\"message\")\n",
    "print(var)\n",
    "var()"
   ]
  },
  {
   "cell_type": "markdown",
   "metadata": {},
   "source": [
    "#### Decorators\n",
    "\n",
    "<p>A decorator in Python is a function that takes another function as its argument, and returns yet another function . Decorators can be extremely useful as they allow the extension of an existing function, without any modification to the original function source code. </p>"
   ]
  },
  {
   "cell_type": "code",
   "execution_count": 143,
   "metadata": {},
   "outputs": [
    {
     "ename": "TypeError",
     "evalue": "'str' object is not callable",
     "output_type": "error",
     "traceback": [
      "\u001b[0;31m---------------------------------------------------------------------------\u001b[0m",
      "\u001b[0;31mTypeError\u001b[0m                                 Traceback (most recent call last)",
      "\u001b[0;32m/var/folders/h2/_w89d9ld5wx2h4jvzmgfxsm00000gn/T/ipykernel_61382/849565549.py\u001b[0m in \u001b[0;36m<module>\u001b[0;34m\u001b[0m\n\u001b[1;32m     10\u001b[0m \u001b[0mreturned_func\u001b[0m \u001b[0;34m=\u001b[0m \u001b[0muppercase_decorator\u001b[0m\u001b[0;34m(\u001b[0m\u001b[0mprint_hello\u001b[0m\u001b[0;34m)\u001b[0m\u001b[0;34m\u001b[0m\u001b[0;34m\u001b[0m\u001b[0m\n\u001b[1;32m     11\u001b[0m \u001b[0;34m\u001b[0m\u001b[0m\n\u001b[0;32m---> 12\u001b[0;31m \u001b[0mreturned_func\u001b[0m\u001b[0;34m(\u001b[0m\u001b[0;34m)\u001b[0m\u001b[0;34m\u001b[0m\u001b[0;34m\u001b[0m\u001b[0m\n\u001b[0m\u001b[1;32m     13\u001b[0m \u001b[0;34m\u001b[0m\u001b[0m\n",
      "\u001b[0;31mTypeError\u001b[0m: 'str' object is not callable"
     ]
    }
   ],
   "source": [
    "def print_hello():\n",
    "    return \"Hello from the Rangers\"\n",
    "\n",
    "# Decorate function to upper case text\n",
    "def uppercase_decorator(function):\n",
    "    def wrapper():\n",
    "        func = function()\n",
    "        make_uppercase = func.upper()\n",
    "        return make_uppercase\n",
    "    \n",
    "    return wrapper\n",
    "\n",
    "returned_func = uppercase_decorator(print_hello)\n",
    "\n",
    "returned_func()\n",
    "\n"
   ]
  },
  {
   "cell_type": "code",
   "execution_count": 142,
   "metadata": {},
   "outputs": [
    {
     "data": {
      "text/plain": [
       "'HELLO THERE.'"
      ]
     },
     "execution_count": 142,
     "metadata": {},
     "output_type": "execute_result"
    }
   ],
   "source": [
    "# Python Decorator Syntax\n",
    "@uppercase_decorator\n",
    "def say_hello():\n",
    "    return \"Hello there.\"\n",
    "\n",
    "say_hello()"
   ]
  },
  {
   "cell_type": "markdown",
   "metadata": {},
   "source": [
    "# Homework Exercises"
   ]
  },
  {
   "cell_type": "markdown",
   "metadata": {},
   "source": [
    "## Exercise 1 <br>\n",
    "<p>Given a list as a parameter,write a function that returns a list of numbers that are less than ten</b></i></p><br>\n",
    "<p> For example: Say your input parameter to the function is [1,11,14,5,8,9]...Your output should [1,5,8,9]</p>"
   ]
  },
  {
   "cell_type": "code",
   "execution_count": 150,
   "metadata": {},
   "outputs": [
    {
     "name": "stdout",
     "output_type": "stream",
     "text": [
      "[1, 5, 8, 9]\n"
     ]
    }
   ],
   "source": [
    "# Use the following list - [1,11,14,5,8,9]\n",
    "\n",
    "l_1 = [1,11,14,5,8,9]\n",
    "\n",
    "def ten_less(num_list):\n",
    "    return [i for i in num_list if i < 10]\n",
    "\n",
    "print(ten_less(l_1))\n",
    "    \n"
   ]
  },
  {
   "cell_type": "markdown",
   "metadata": {},
   "source": [
    "## Exercise 2 <br>\n",
    "<p>Write a function that takes in two lists and returns the two lists merged together and sorted<br>\n",
    "<b><i>Hint: You can use the .sort() method</i></b></p>"
   ]
  },
  {
   "cell_type": "code",
   "execution_count": 171,
   "metadata": {},
   "outputs": [
    {
     "name": "stdout",
     "output_type": "stream",
     "text": [
      "[1, 2, 3, 3, 4, 4, 5, 5, 6, 6, 7, 8, 10]\n"
     ]
    }
   ],
   "source": [
    "l_1 = [1,2,3,4,5,6]\n",
    "l_2 = [3,4,5,6,7,8,10]\n",
    "\n",
    "def merge_sort(list_1, list_2):\n",
    "    return sorted(list_1 + list_2)\n",
    "\n",
    "print(merge_sort(l_1, l_2))\n",
    "\n"
   ]
  },
  {
   "cell_type": "code",
   "execution_count": null,
   "metadata": {},
   "outputs": [],
   "source": []
  }
 ],
 "metadata": {
  "kernelspec": {
   "display_name": "Python 3 (ipykernel)",
   "language": "python",
   "name": "python3"
  },
  "language_info": {
   "codemirror_mode": {
    "name": "ipython",
    "version": 3
   },
   "file_extension": ".py",
   "mimetype": "text/x-python",
   "name": "python",
   "nbconvert_exporter": "python",
   "pygments_lexer": "ipython3",
   "version": "3.9.7"
  }
 },
 "nbformat": 4,
 "nbformat_minor": 2
}
