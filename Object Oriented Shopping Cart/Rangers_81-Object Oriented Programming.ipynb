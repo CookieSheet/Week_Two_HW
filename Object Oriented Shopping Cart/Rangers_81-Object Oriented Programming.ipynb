{
 "cells": [
  {
   "cell_type": "markdown",
   "metadata": {},
   "source": [
    "# Object-Oriented-Programming (OOP)"
   ]
  },
  {
   "cell_type": "markdown",
   "metadata": {},
   "source": [
    "## Tasks Today:\n",
    "\n",
    "   \n",
    "\n",
    "1) <b>Creating a Class (Initializing/Declaring)</b> <br>\n",
    "2) <b>Using a Class (Instantiating)</b> <br>\n",
    " &nbsp;&nbsp;&nbsp;&nbsp; a) Creating One Instance <br>\n",
    " &nbsp;&nbsp;&nbsp;&nbsp; b) Creating Multiple Instances <br>\n",
    " &nbsp;&nbsp;&nbsp;&nbsp; c) In-Class Exercise #1 - Create a Class 'Car' and instantiate three different makes of cars <br>\n",
    "3) <b>The \\__init\\__() Method</b> <br>\n",
    " &nbsp;&nbsp;&nbsp;&nbsp; a) The 'self' Attribute <br>\n",
    "4) <b>Class Attributes</b> <br>\n",
    " &nbsp;&nbsp;&nbsp;&nbsp; a) Initializing Attributes <br>\n",
    " &nbsp;&nbsp;&nbsp;&nbsp; b) Setting an Attribute Outside of the \\__init\\__() Method <br>\n",
    " &nbsp;&nbsp;&nbsp;&nbsp; c) Setting Defaults for Attributes <br>\n",
    " &nbsp;&nbsp;&nbsp;&nbsp; d) Accessing Class Attributes <br>\n",
    " &nbsp;&nbsp;&nbsp;&nbsp; e) Changing Class Attributes <br>\n",
    " &nbsp;&nbsp;&nbsp;&nbsp; f) In-Class Exercise #2 - Add a color and wheels attribute to your 'Car' class <br>\n",
    "5) <b>Class Methods</b> <br>\n",
    " &nbsp;&nbsp;&nbsp;&nbsp; a) Creating <br>\n",
    " &nbsp;&nbsp;&nbsp;&nbsp; b) Calling <br>\n",
    " &nbsp;&nbsp;&nbsp;&nbsp; c) Modifying an Attribute's Value Through a Method <br>\n",
    " &nbsp;&nbsp;&nbsp;&nbsp; d) Incrementing an Attribute's Value Through a Method <br>\n",
    " &nbsp;&nbsp;&nbsp;&nbsp; e) In-Class Exercise #3 - Add a method that prints the cars color and wheel number, then call them <br>\n",
    "6) <b>Inheritance</b> <br>\n",
    " &nbsp;&nbsp;&nbsp;&nbsp; a) Syntax for Inheriting from a Parent Class <br>\n",
    " &nbsp;&nbsp;&nbsp;&nbsp; b) The \\__init\\__() Method for a Child Class (super()) <br>\n",
    " &nbsp;&nbsp;&nbsp;&nbsp; c) Defining Attributes and Methods for the Child Class <br>\n",
    " &nbsp;&nbsp;&nbsp;&nbsp; d) Method Overriding <br>\n",
    " &nbsp;&nbsp;&nbsp;&nbsp; e) In-Class Exercise #4 - Create a class 'Ford' that inherits from 'Car' class and initialize it as a Blue Ford Explorer with 4 wheels using the super() method <br>\n",
    "7) <b>Classes as Attributes</b> <br>\n",
    "8) <b>Exercises</b> <br>\n",
    " &nbsp;&nbsp;&nbsp;&nbsp; a) Exercise #1 - Turn the shopping cart program from last week into an object-oriented program <br>"
   ]
  },
  {
   "cell_type": "markdown",
   "metadata": {},
   "source": [
    "## Creating a Class (Initializing/Declaring)\n",
    "<p>When creating a class, function, or even a variable you are initializing that object. Initializing and Declaring occur at the same time in Python, whereas in lower level languages you have to declare an object before initializing it. This is the first step in the process of using a class.</p>"
   ]
  },
  {
   "cell_type": "code",
   "execution_count": 2,
   "metadata": {},
   "outputs": [],
   "source": [
    "class Car():\n",
    "    wheels = 4\n",
    "    color = 'blue'"
   ]
  },
  {
   "cell_type": "markdown",
   "metadata": {},
   "source": [
    "## Using a Class (Instantiating)\n",
    "<p>The process of creating a class is called <i>Instantiating</i>. Each time you create a variable of that type of class, it is referred to as an <i>Instance</i> of that class. This is the second step in the process of using a class.</p>"
   ]
  },
  {
   "cell_type": "markdown",
   "metadata": {},
   "source": [
    "##### Creating One Instance"
   ]
  },
  {
   "cell_type": "code",
   "execution_count": 5,
   "metadata": {},
   "outputs": [
    {
     "name": "stdout",
     "output_type": "stream",
     "text": [
      "4\n"
     ]
    }
   ],
   "source": [
    "ford = Car()\n",
    "print(ford.wheels)"
   ]
  },
  {
   "cell_type": "markdown",
   "metadata": {},
   "source": [
    "##### Creating Multiple Instances"
   ]
  },
  {
   "cell_type": "code",
   "execution_count": 6,
   "metadata": {},
   "outputs": [
    {
     "name": "stdout",
     "output_type": "stream",
     "text": [
      "blue\n",
      "4\n",
      "blue\n",
      "4\n"
     ]
    }
   ],
   "source": [
    "mazda = Car()\n",
    "nissan = Car()\n",
    "geo = Car()\n",
    "mercedes = Car()\n",
    "\n",
    "print(mazda.color)\n",
    "print(nissan.wheels)\n",
    "print(geo.color)\n",
    "print(mercedes.wheels)"
   ]
  },
  {
   "cell_type": "markdown",
   "metadata": {},
   "source": [
    "##### In-Class Exercise #1 - Create a Class 'Car' and Instantiate three different makes of cars"
   ]
  },
  {
   "cell_type": "code",
   "execution_count": 8,
   "metadata": {},
   "outputs": [],
   "source": [
    "class Car():\n",
    "    passengers = 2\n",
    "    spoiler = \"yes\"\n",
    "    tires = \"fast\"\n",
    "    parachute = \"yes please!\"\n",
    "\n",
    "\n",
    "lamborghini = Car()\n",
    "bentley = Car()\n",
    "ferrrari = Car()"
   ]
  },
  {
   "cell_type": "markdown",
   "metadata": {},
   "source": [
    "## The \\__init\\__() Method <br>\n",
    "<p>This method is used in almost every created class, and called only once upon the creation of the class instance. This method will initialize all variables needed for the object.</p>"
   ]
  },
  {
   "cell_type": "code",
   "execution_count": 12,
   "metadata": {},
   "outputs": [
    {
     "name": "stdout",
     "output_type": "stream",
     "text": [
      "4\n",
      "red\n",
      "blue\n",
      "silver\n",
      "4.7L\n"
     ]
    }
   ],
   "source": [
    "class Car():\n",
    "    ENGINE = '4.7L'\n",
    "    def __init__(self, wheels, color):\n",
    "        self.wheels = wheels\n",
    "        self.color = color\n",
    "        \n",
    "ford = Car(4, \"red\")\n",
    "print(ford.wheels)\n",
    "print(ford.color)\n",
    "\n",
    "mazda = Car(4, 'blue')\n",
    "mercedes = Car(6, 'silver')\n",
    "\n",
    "print(mazda.color)\n",
    "print(mercedes.color)\n",
    "print(mazda.ENGINE)"
   ]
  },
  {
   "cell_type": "markdown",
   "metadata": {},
   "source": [
    "##### The 'self' Attribute <br>\n",
    "<p>This attribute is required to keep track of specific instance's attributes. Without the self attribute, the program would not know how to reference or keep track of an instance's attributes.</p>"
   ]
  },
  {
   "cell_type": "code",
   "execution_count": null,
   "metadata": {},
   "outputs": [],
   "source": [
    "# see above"
   ]
  },
  {
   "cell_type": "markdown",
   "metadata": {},
   "source": [
    "## Class Attributes <br>\n",
    "<p>While variables are inside of a class, they are referred to as attributes and not variables. When someone says 'attribute' you know they're speaking about a class. Attributes can be initialized through the init method, or outside of it.</p>"
   ]
  },
  {
   "cell_type": "markdown",
   "metadata": {},
   "source": [
    "##### Initializing Attributes"
   ]
  },
  {
   "cell_type": "code",
   "execution_count": 15,
   "metadata": {},
   "outputs": [],
   "source": [
    "# see above\n",
    "class Toy():\n",
    "    TYPE = \"Sock Em Boppers\"\n",
    "    def __init__(self, color, size, weight):\n",
    "        self.color = color\n",
    "        self.size = size\n",
    "        self.weight = weight\n",
    "        \n",
    "boppers_1 = Toy('purple', 'large', '5oz')\n",
    "boppers_2 = Toy('yellow', 'small', '.5oz')\n"
   ]
  },
  {
   "cell_type": "markdown",
   "metadata": {},
   "source": [
    "##### Accessing Class Attributes"
   ]
  },
  {
   "cell_type": "code",
   "execution_count": 16,
   "metadata": {
    "scrolled": true
   },
   "outputs": [
    {
     "name": "stdout",
     "output_type": "stream",
     "text": [
      "purple\n",
      "small\n",
      ".5oz\n"
     ]
    }
   ],
   "source": [
    "# See Above\n",
    "print(boppers_1.color)\n",
    "print(boppers_2.size)\n",
    "print(boppers_2.weight)"
   ]
  },
  {
   "cell_type": "markdown",
   "metadata": {},
   "source": [
    "##### Setting Defaults for Attributes"
   ]
  },
  {
   "cell_type": "code",
   "execution_count": 30,
   "metadata": {},
   "outputs": [
    {
     "name": "stdout",
     "output_type": "stream",
     "text": [
      "4\n",
      "6\n",
      "Blue\n",
      "Blue\n",
      "4.7\n",
      "4.7\n"
     ]
    }
   ],
   "source": [
    "class Car():\n",
    "    ENGINE = '4.7'  #constant attribute - this is unlikely to be changed\n",
    "    \n",
    "    def __init__(self, wheels):\n",
    "        self.wheels = wheels\n",
    "        self.color = 'Blue' # default attribute - this can be changed and might be likely to change\n",
    "        \n",
    "honda = Car(4)\n",
    "hummer = Car(6)\n",
    "print(honda.wheels)\n",
    "print(hummer.wheels)\n",
    "print(honda.color)\n",
    "print(hummer.color)\n",
    "print(honda.ENGINE)\n",
    "print(hummer.ENGINE)\n",
    "\n",
    "Car.ENGINE = '5.8'"
   ]
  },
  {
   "cell_type": "markdown",
   "metadata": {},
   "source": [
    "##### Changing Class Attributes <br>\n",
    "<p>Keep in mind there are global class attributes and then there are attributes only available to each class instance which won't effect other classes.</p>"
   ]
  },
  {
   "cell_type": "code",
   "execution_count": 31,
   "metadata": {},
   "outputs": [
    {
     "name": "stdout",
     "output_type": "stream",
     "text": [
      "Before the change: Blue\n",
      "After the change: White\n",
      "Hummer before the change: 6\n",
      "Hummer before the change: 8\n",
      "{'wheels': 4, 'color': 'White'}\n",
      "{'wheels': 8, 'color': 'Blue'}\n",
      "5.8\n"
     ]
    }
   ],
   "source": [
    "#Change the defaukt attribute\n",
    "print(f\"Before the change: {honda.color}\")\n",
    "honda.color = \"White\"\n",
    "print(f\"After the change: {honda.color}\")   \n",
    "\n",
    "print(f\"Hummer before the change: {hummer.wheels}\")\n",
    "hummer.wheels = 8\n",
    "print(f\"Hummer before the change: {hummer.wheels}\")\n",
    "\n",
    "print(honda.__dict__)\n",
    "print(hummer.__dict__)\n",
    "# dir(hummer)\n",
    "\n",
    "print(honda.ENGINE)"
   ]
  },
  {
   "cell_type": "code",
   "execution_count": null,
   "metadata": {},
   "outputs": [],
   "source": []
  },
  {
   "cell_type": "markdown",
   "metadata": {},
   "source": [
    "##### In-Class Exercise #2 - Add a doors and seats attribute to your 'Car' class then print out two different instances with different doors and seats"
   ]
  },
  {
   "cell_type": "code",
   "execution_count": 36,
   "metadata": {},
   "outputs": [
    {
     "name": "stdout",
     "output_type": "stream",
     "text": [
      "4\n"
     ]
    },
    {
     "ename": "AttributeError",
     "evalue": "'Car' object has no attribute 'color'",
     "output_type": "error",
     "traceback": [
      "\u001b[0;31m---------------------------------------------------------------------------\u001b[0m",
      "\u001b[0;31mAttributeError\u001b[0m                            Traceback (most recent call last)",
      "\u001b[0;32m/var/folders/h2/_w89d9ld5wx2h4jvzmgfxsm00000gn/T/ipykernel_95143/1421250713.py\u001b[0m in \u001b[0;36m<module>\u001b[0;34m\u001b[0m\n\u001b[1;32m     10\u001b[0m \u001b[0;34m\u001b[0m\u001b[0m\n\u001b[1;32m     11\u001b[0m \u001b[0mprint\u001b[0m\u001b[0;34m(\u001b[0m\u001b[0mford\u001b[0m\u001b[0;34m.\u001b[0m\u001b[0mdoor\u001b[0m\u001b[0;34m)\u001b[0m\u001b[0;34m\u001b[0m\u001b[0;34m\u001b[0m\u001b[0m\n\u001b[0;32m---> 12\u001b[0;31m \u001b[0mprint\u001b[0m\u001b[0;34m(\u001b[0m\u001b[0mhonda\u001b[0m\u001b[0;34m.\u001b[0m\u001b[0mcolor\u001b[0m\u001b[0;34m)\u001b[0m\u001b[0;34m\u001b[0m\u001b[0;34m\u001b[0m\u001b[0m\n\u001b[0m",
      "\u001b[0;31mAttributeError\u001b[0m: 'Car' object has no attribute 'color'"
     ]
    }
   ],
   "source": [
    "class Car():\n",
    "    \n",
    "    def __init__(self, door, seats):\n",
    "        self.door = door\n",
    "        self.seats = seats\n",
    "        color = \"black\"\n",
    "        \n",
    "ford = Car(4, 2)\n",
    "honda = Car(5, 3)\n",
    "\n",
    "print(ford.door)\n",
    "print(honda.color)"
   ]
  },
  {
   "cell_type": "markdown",
   "metadata": {},
   "source": [
    "## Class Methods <br>\n",
    "<p>While inside of a class, functions are referred to as 'methods'. If you hear someone mention methods, they're speaking about classes. Methods are essentially functions, but only callable on the instances of a class.</p>"
   ]
  },
  {
   "cell_type": "markdown",
   "metadata": {},
   "source": [
    "##### Creating"
   ]
  },
  {
   "cell_type": "code",
   "execution_count": 54,
   "metadata": {},
   "outputs": [],
   "source": [
    "class Bus():\n",
    "    \"\"\"\n",
    "    The bus will have doors, seats, seats available, color, and a bus driver\n",
    "    \n",
    "    Attributes for the class:\n",
    "    -doors: expected to be an integer\n",
    "    -seats: integer\n",
    "    -seats_availbe: integer\n",
    "    -color: string\n",
    "    -bus_driver: string\n",
    "    \"\"\"\n",
    "    \n",
    "    def __init__(self, doors, seats, seats_available, color, bus_driver):\n",
    "        self.doors = doors\n",
    "        self.seats = seats\n",
    "        self.seats_available = seats_available\n",
    "        self.color = color\n",
    "        self.bus_driver = bus_driver\n",
    "        \n",
    "    def load_passengers(self):\n",
    "        if self.seats_available <= 0:\n",
    "            print(\"This bus is full! You can't take anymore passengers\")\n",
    "        else:\n",
    "            passengers = int(input(\"How many passengers are getting on?\"))\n",
    "            self.seats_available -= passengers\n",
    "            print(f\"{passenges} seats have been loaded and there are {self.seats_availablke} seats available\")\n",
    "\n",
    "        # increment the number of seats available\n",
    "    def unload_passengers(self):\n",
    "        if self.seats_available >= self.seats:\n",
    "            print(\"There is no one left to get off the bus!\")\n",
    "            self.seats_available = self.seats\n",
    "        else:\n",
    "            unload = int(input(\"How many passengers are getting off the bus?\"))\n",
    "            self.seats_available += unload\n",
    "            if self.seats_available >= self.seats:\n",
    "                self.seats_available = self.seats\n",
    "                print(f\"{unload} passengers have left the bus. There are {self.seats_available} unoccupied seats\")\n",
    "            print(f\"{unload} passengers have left the bus. There are {self.seats_available} unoccupied seats\")\n",
    "    def change_driver(self):\n",
    "        change = input(\"Who is replacing you?\")\n",
    "        self.bus_river = change\n",
    "        print(f\"The new bus driver is {self.bus_driver}\")\n",
    "        \n",
    "    def check_Seats(self):\n",
    "        print(self.seats_available)\n",
    "        \n",
    "ryan_bus = Bus(2, 90, 45, 'yellow', 'Cookie')\n"
   ]
  },
  {
   "cell_type": "markdown",
   "metadata": {},
   "source": [
    "##### Calling"
   ]
  },
  {
   "cell_type": "code",
   "execution_count": null,
   "metadata": {},
   "outputs": [],
   "source": []
  },
  {
   "cell_type": "code",
   "execution_count": 87,
   "metadata": {},
   "outputs": [
    {
     "ename": "KeyboardInterrupt",
     "evalue": "Interrupted by user",
     "output_type": "error",
     "traceback": [
      "\u001b[0;31m---------------------------------------------------------------------------\u001b[0m",
      "\u001b[0;31mKeyboardInterrupt\u001b[0m                         Traceback (most recent call last)",
      "\u001b[0;32m/var/folders/h2/_w89d9ld5wx2h4jvzmgfxsm00000gn/T/ipykernel_95143/2099454715.py\u001b[0m in \u001b[0;36m<module>\u001b[0;34m\u001b[0m\n\u001b[1;32m     19\u001b[0m             \u001b[0mprint\u001b[0m\u001b[0;34m(\u001b[0m\u001b[0;34m\"That is not a valid response! Please pick one from the list.\"\u001b[0m\u001b[0;34m)\u001b[0m\u001b[0;34m\u001b[0m\u001b[0;34m\u001b[0m\u001b[0m\n\u001b[1;32m     20\u001b[0m \u001b[0;34m\u001b[0m\u001b[0m\n\u001b[0;32m---> 21\u001b[0;31m \u001b[0mrun\u001b[0m\u001b[0;34m(\u001b[0m\u001b[0;34m)\u001b[0m\u001b[0;34m\u001b[0m\u001b[0;34m\u001b[0m\u001b[0m\n\u001b[0m\u001b[1;32m     22\u001b[0m \u001b[0;34m\u001b[0m\u001b[0m\n",
      "\u001b[0;32m/var/folders/h2/_w89d9ld5wx2h4jvzmgfxsm00000gn/T/ipykernel_95143/2099454715.py\u001b[0m in \u001b[0;36mrun\u001b[0;34m()\u001b[0m\n\u001b[1;32m      1\u001b[0m \u001b[0;32mdef\u001b[0m \u001b[0mrun\u001b[0m\u001b[0;34m(\u001b[0m\u001b[0;34m)\u001b[0m\u001b[0;34m:\u001b[0m\u001b[0;34m\u001b[0m\u001b[0;34m\u001b[0m\u001b[0m\n\u001b[1;32m      2\u001b[0m     \u001b[0;32mwhile\u001b[0m \u001b[0;32mTrue\u001b[0m\u001b[0;34m:\u001b[0m\u001b[0;34m\u001b[0m\u001b[0;34m\u001b[0m\u001b[0m\n\u001b[0;32m----> 3\u001b[0;31m         \u001b[0mresponse\u001b[0m \u001b[0;34m=\u001b[0m \u001b[0minput\u001b[0m\u001b[0;34m(\u001b[0m\u001b[0;34m'What would you like to do? Load/Unload/Change Driver/Check Seats/Quit '\u001b[0m\u001b[0;34m)\u001b[0m\u001b[0;34m\u001b[0m\u001b[0;34m\u001b[0m\u001b[0m\n\u001b[0m\u001b[1;32m      4\u001b[0m         \u001b[0;32mif\u001b[0m \u001b[0mresponse\u001b[0m\u001b[0;34m.\u001b[0m\u001b[0mlower\u001b[0m\u001b[0;34m(\u001b[0m\u001b[0;34m)\u001b[0m \u001b[0;34m==\u001b[0m \u001b[0;34m'quit'\u001b[0m\u001b[0;34m:\u001b[0m\u001b[0;34m\u001b[0m\u001b[0;34m\u001b[0m\u001b[0m\n\u001b[1;32m      5\u001b[0m             \u001b[0mprint\u001b[0m\u001b[0;34m(\u001b[0m\u001b[0;34m\"Oh no! There are still passengers to be picked up :(\"\u001b[0m\u001b[0;34m)\u001b[0m\u001b[0;34m\u001b[0m\u001b[0;34m\u001b[0m\u001b[0m\n",
      "\u001b[0;32m~/opt/anaconda3/lib/python3.9/site-packages/ipykernel/kernelbase.py\u001b[0m in \u001b[0;36mraw_input\u001b[0;34m(self, prompt)\u001b[0m\n\u001b[1;32m   1004\u001b[0m                 \u001b[0;34m\"raw_input was called, but this frontend does not support input requests.\"\u001b[0m\u001b[0;34m\u001b[0m\u001b[0;34m\u001b[0m\u001b[0m\n\u001b[1;32m   1005\u001b[0m             )\n\u001b[0;32m-> 1006\u001b[0;31m         return self._input_request(\n\u001b[0m\u001b[1;32m   1007\u001b[0m             \u001b[0mstr\u001b[0m\u001b[0;34m(\u001b[0m\u001b[0mprompt\u001b[0m\u001b[0;34m)\u001b[0m\u001b[0;34m,\u001b[0m\u001b[0;34m\u001b[0m\u001b[0;34m\u001b[0m\u001b[0m\n\u001b[1;32m   1008\u001b[0m             \u001b[0mself\u001b[0m\u001b[0;34m.\u001b[0m\u001b[0m_parent_ident\u001b[0m\u001b[0;34m[\u001b[0m\u001b[0;34m\"shell\"\u001b[0m\u001b[0;34m]\u001b[0m\u001b[0;34m,\u001b[0m\u001b[0;34m\u001b[0m\u001b[0;34m\u001b[0m\u001b[0m\n",
      "\u001b[0;32m~/opt/anaconda3/lib/python3.9/site-packages/ipykernel/kernelbase.py\u001b[0m in \u001b[0;36m_input_request\u001b[0;34m(self, prompt, ident, parent, password)\u001b[0m\n\u001b[1;32m   1049\u001b[0m             \u001b[0;32mexcept\u001b[0m \u001b[0mKeyboardInterrupt\u001b[0m\u001b[0;34m:\u001b[0m\u001b[0;34m\u001b[0m\u001b[0;34m\u001b[0m\u001b[0m\n\u001b[1;32m   1050\u001b[0m                 \u001b[0;31m# re-raise KeyboardInterrupt, to truncate traceback\u001b[0m\u001b[0;34m\u001b[0m\u001b[0;34m\u001b[0m\u001b[0m\n\u001b[0;32m-> 1051\u001b[0;31m                 \u001b[0;32mraise\u001b[0m \u001b[0mKeyboardInterrupt\u001b[0m\u001b[0;34m(\u001b[0m\u001b[0;34m\"Interrupted by user\"\u001b[0m\u001b[0;34m)\u001b[0m \u001b[0;32mfrom\u001b[0m \u001b[0;32mNone\u001b[0m\u001b[0;34m\u001b[0m\u001b[0;34m\u001b[0m\u001b[0m\n\u001b[0m\u001b[1;32m   1052\u001b[0m             \u001b[0;32mexcept\u001b[0m \u001b[0mException\u001b[0m\u001b[0;34m:\u001b[0m\u001b[0;34m\u001b[0m\u001b[0;34m\u001b[0m\u001b[0m\n\u001b[1;32m   1053\u001b[0m                 \u001b[0mself\u001b[0m\u001b[0;34m.\u001b[0m\u001b[0mlog\u001b[0m\u001b[0;34m.\u001b[0m\u001b[0mwarning\u001b[0m\u001b[0;34m(\u001b[0m\u001b[0;34m\"Invalid Message:\"\u001b[0m\u001b[0;34m,\u001b[0m \u001b[0mexc_info\u001b[0m\u001b[0;34m=\u001b[0m\u001b[0;32mTrue\u001b[0m\u001b[0;34m)\u001b[0m\u001b[0;34m\u001b[0m\u001b[0;34m\u001b[0m\u001b[0m\n",
      "\u001b[0;31mKeyboardInterrupt\u001b[0m: Interrupted by user"
     ]
    }
   ],
   "source": [
    "def run():\n",
    "    while True:\n",
    "        response = input('What would you like to do? Load/Unload/Change Driver/Check Seats/Quit ')\n",
    "        if response.lower() == 'quit':\n",
    "            print(\"Oh no! There are still passengers to be picked up :(\")\n",
    "            break\n",
    "        elif response.lower() == 'load':\n",
    "            ryan_bus.load_passengers()\n",
    "            \n",
    "        elif response.lower() == 'unload':\n",
    "            ryan_bus.unload_passengers()\n",
    "            \n",
    "        elif response.lower() == 'change driver':\n",
    "            ryan_bus.change_driver()\n",
    "            \n",
    "        elif response.lower() == \"check seats\":\n",
    "            ryan_bus.check_seats()\n",
    "        else:\n",
    "            print(\"That is not a valid response! Please pick one from the list.\")\n",
    "                                                                         \n",
    "run()\n",
    "        "
   ]
  },
  {
   "cell_type": "markdown",
   "metadata": {},
   "source": [
    "##### Modifying an Attribute's Value Through a Method"
   ]
  },
  {
   "cell_type": "code",
   "execution_count": null,
   "metadata": {},
   "outputs": [],
   "source": []
  },
  {
   "cell_type": "markdown",
   "metadata": {},
   "source": [
    "##### Incrementing an Attribute's Value Through a Method"
   ]
  },
  {
   "cell_type": "code",
   "execution_count": null,
   "metadata": {},
   "outputs": [],
   "source": []
  },
  {
   "cell_type": "markdown",
   "metadata": {},
   "source": [
    "##### In-Class Exercise #3 - Add a method that takes in three parameters of year, doors and seats and prints out a formatted print statement with make, model, year, seats, and doors"
   ]
  },
  {
   "cell_type": "code",
   "execution_count": 72,
   "metadata": {},
   "outputs": [
    {
     "name": "stdout",
     "output_type": "stream",
     "text": [
      "This car is from Ford Explorer and is a 2017 and has 4 doors and 4 seats\n",
      "would you like to increment(i) or quit(q)?i\n",
      "This car is from Ford Explorer and is a 2018 and has 4 doors and 4 seats\n",
      "would you like to increment(i) or quit(q)?q\n"
     ]
    }
   ],
   "source": [
    "# Create class with 2 paramters inside of the __init__ which are make and model\n",
    "\n",
    "# Inside of the Car class create a method that has 4 parameter in total (self,year,door,seats)\n",
    "\n",
    "# Output: This car is from 2019 and is a Ford Expolorer and has 4 doors and 5 seats\n",
    "\n",
    "# Create method to increment car's age \n",
    "\n",
    "# increment whatever you'd like \n",
    "\n",
    "class Car():\n",
    "    \n",
    "    def __init__(self, make, model, year, door, seats):\n",
    "        self.make = make\n",
    "        self.model = model\n",
    "        self.year = year\n",
    "        self.door = door\n",
    "        self.seats = seats\n",
    "        \n",
    "    def increment_age(self):\n",
    "        self.year += 1 \n",
    "        \n",
    "        \n",
    "vehicle = Car(\"Ford\", \"Explorer\", 2017, 4, 4)\n",
    "\n",
    "def run():\n",
    "    while True:\n",
    "        print(f\"This car is from {vehicle.make} {vehicle.model} and is a {vehicle.year} and has {vehicle.door} doors and {vehicle.seats} seats\")\n",
    "        response = input(\"would you like to increment the year by one(i) or quit(q)?\")\n",
    "        if response.lower() == 'q':\n",
    "            break\n",
    "        elif response.lower() == 'i':\n",
    "            vehicle.increment_age()\n",
    "            \n",
    "run()\n",
    "        \n",
    "        "
   ]
  },
  {
   "cell_type": "markdown",
   "metadata": {},
   "source": [
    "## Inheritance <br>\n",
    "<p>You can create a child-parent relationship between two classes by using inheritance. What this allows you to do is have overriding methods, but also inherit traits from the parent class. Think of it as an actual parent and child, the child will inherit the parent's genes, as will the classes in OOP</p>"
   ]
  },
  {
   "cell_type": "markdown",
   "metadata": {},
   "source": [
    "##### Syntax for Inheriting from a Parent Class"
   ]
  },
  {
   "cell_type": "code",
   "execution_count": 80,
   "metadata": {},
   "outputs": [
    {
     "name": "stdout",
     "output_type": "stream",
     "text": [
      "Chester\n",
      "9.8\n",
      "Lassie\n",
      "15\n",
      "9.8\n",
      "reeeeeeeeeee\n",
      "Eyo\n",
      "ruff, ruff, ruff\n",
      "15\n",
      "9.8\n"
     ]
    }
   ],
   "source": [
    "class Animal():\n",
    "    ACCELERATION = 9.8\n",
    "    \n",
    "    def __init__(self, name, species, legs=4):\n",
    "        self.name = name\n",
    "        self.species = species\n",
    "        self.legs = legs\n",
    "        \n",
    "    # Generic Parent Animal class method\n",
    "    def make_sound(self):\n",
    "        print(\"reeeeeeeeeee\")\n",
    "\n",
    "# creation of our child class - Dog\n",
    "class Dog(Animal):\n",
    "    SPEED = 15\n",
    "    \n",
    "    def printIno(self):\n",
    "        print(f\"The dog runs at {SPEED} mph and accelerates at {ACCELERATION} mps\")\n",
    "\n",
    "# creation of our grandchild class - Mut\n",
    "class Mut(Dog):\n",
    "    COLOR = 'black & brown'\n",
    "    \n",
    "    def __init__(self,name,species,eye_color, legs=4):\n",
    "        Dog.__init__(self, name, species, legs)\n",
    "        self.eye_color = eye_color\n",
    "    \n",
    "    def make_sound(self):\n",
    "        print(\"ruff, ruff, ruff\")\n",
    "        \n",
    "cheetah = Animal(\"Chester\", \"cheetah\")\n",
    "print(cheetah.name)\n",
    "print(cheetah.ACCELERATION)\n",
    "lassie = Dog(\"Lassie\", \"Dog\")\n",
    "print(lassie.name)\n",
    "print(lassie.SPEED)\n",
    "print(lassie.ACCELERATION)\n",
    "lassie.make_sound()\n",
    "eyo = Mut(\"Eyo\", \"Dog\", \"brown\")\n",
    "print(eyo.name)\n",
    "eyo.make_sound()\n",
    "print(eyo.SPEED)\n",
    "print(eyo.ACCELERATION)"
   ]
  },
  {
   "cell_type": "markdown",
   "metadata": {},
   "source": [
    "##### The \\__init\\__() Method for a Child Class - super()"
   ]
  },
  {
   "cell_type": "code",
   "execution_count": 81,
   "metadata": {
    "scrolled": true
   },
   "outputs": [
    {
     "name": "stdout",
     "output_type": "stream",
     "text": [
      "woooooof\n",
      "15\n",
      "9.8\n"
     ]
    }
   ],
   "source": [
    "class Mut(Dog):\n",
    "    color = 'black & brown'\n",
    "    #overreiding the Animal CLass --init__ with the super().__init__\n",
    "    def __init__(self, name, species, eye_color, legs = 4):\n",
    "        super().__init__(name, species, legs)\n",
    "        self.eye_color = eye_color\n",
    "        \n",
    "    def make_sound(self):\n",
    "        print(\"woooooof\")\n",
    "        \n",
    "henri = Mut(\"Henri\", \"dog\", \"brown\")\n",
    "henri.make_sound()\n",
    "print(henri.SPEED)\n",
    "print(henri.ACCELERATION)\n"
   ]
  },
  {
   "cell_type": "markdown",
   "metadata": {},
   "source": [
    "##### Defining Attributes and Methods for the Child Class"
   ]
  },
  {
   "cell_type": "code",
   "execution_count": null,
   "metadata": {},
   "outputs": [],
   "source": [
    "# See Above"
   ]
  },
  {
   "cell_type": "markdown",
   "metadata": {},
   "source": [
    "##### Method Overriding"
   ]
  },
  {
   "cell_type": "code",
   "execution_count": null,
   "metadata": {},
   "outputs": [],
   "source": [
    "# See Above"
   ]
  },
  {
   "cell_type": "markdown",
   "metadata": {},
   "source": [
    "## Classes as Attributes <br>\n",
    "<p>Classes can also be used as attributes within another class. This is useful in situations where you need to keep variables locally stored, instead of globally stored.</p>"
   ]
  },
  {
   "cell_type": "code",
   "execution_count": 86,
   "metadata": {},
   "outputs": [
    {
     "name": "stdout",
     "output_type": "stream",
     "text": [
      "20\n",
      "2015 Mazda 3 20\n"
     ]
    }
   ],
   "source": [
    "class Battery():\n",
    "    VOLTZ: 7.8\n",
    "        \n",
    "    def __init__(self, cells):\n",
    "        self.cells = cells\n",
    "        \n",
    "class Car():\n",
    "    def __init__(self, year, make, model, battery):\n",
    "        self.year = year\n",
    "        self.make = make\n",
    "        self.model = model\n",
    "        self.battery = battery\n",
    "        \n",
    "    def printInfo(self):\n",
    "        print(f\"{self.year} {self.make} {self.model} {self.battery.cells}\")\n",
    "        \n",
    "battery = Battery(20)\n",
    "print(battery.cells)\n",
    "\n",
    "mazda = Car(2015, \"Mazda\", \"3\", battery)\n",
    "\n",
    "mazda.printInfo()\n",
    "\n"
   ]
  },
  {
   "cell_type": "markdown",
   "metadata": {},
   "source": [
    "# Exercises"
   ]
  },
  {
   "cell_type": "markdown",
   "metadata": {},
   "source": [
    "### Exercise 1 - Turn the shopping cart program from yesterday into an object-oriented program\n",
    "\n",
    "The comments in the cell below are there as a guide for thinking about the problem. However, if you feel a different way is best for you and your own thought process, please do what feels best for you by all means."
   ]
  },
  {
   "cell_type": "code",
   "execution_count": 1,
   "metadata": {},
   "outputs": [
    {
     "name": "stdout",
     "output_type": "stream",
     "text": [
      " \n",
      "            Your options are in the parenthesis: \n",
      "\n",
      "                         (Add) to your cart?\n",
      "                         (Remove) from your cart?\n",
      "                         (Show) what's in your cart?\n",
      "                         (Quit) your cart? \n",
      "        \n",
      "What would you like to do? show\n",
      "\n",
      "Within your cart layeth: \n",
      "\n",
      "1 $3.00 blueberries for a total of $3.00\n",
      "4 $1.00 orange for a total of $4.00\n",
      "50 $0.75 beer for a total of $37.50\n",
      "Wow what a basket! at a bargain price of $44.50!\n",
      " \n",
      "            Your options are in the parenthesis: \n",
      "\n",
      "                         (Add) to your cart?\n",
      "                         (Remove) from your cart?\n",
      "                         (Show) what's in your cart?\n",
      "                         (Quit) your cart? \n",
      "        \n",
      "What would you like to do? quit\n",
      "Thank you for shopping with us! See You Soon!\n"
     ]
    }
   ],
   "source": [
    "def formatMoney(toFormat):\n",
    "    return \"{:.2f}\".format(toFormat)\n",
    "\n",
    "class Cart():\n",
    "    def __init__(self):\n",
    "        # self.items = {}\n",
    "        self.items = {\"blueberries\" : {\"count\" : 1, \"price\" : 3.00},\n",
    "             \"orange\" : {\"count\" : 4, \"price\" : 1.00},\n",
    "             \"beer\" : {\"count\" : 50, \"price\" : .75}}\n",
    "    \n",
    "    def add_to_cart(self):\n",
    "        \n",
    "        cart_item = input(\"What would you like to add to the cart? \")\n",
    "        cart_count = int(input(\"How much of this item do you want? \"))\n",
    "        item_price =  float(input(\"At what price(ex .50, ex 2.75, 100.00) \"))\n",
    "        self.items[cart_item] = {\"count\" : cart_count, \"price\" : item_price}\n",
    "        if cart_item not in self.items.keys():\n",
    "            self.items[cart_item][\"count\"] = cart_count\n",
    "            self.items[cart_item][\"price\"] = item_price\n",
    "        else:\n",
    "            self.items[cart_item][\"count\"] += cart_count\n",
    "            self.items[cart_item][\"price\"] += item_price\n",
    "\n",
    "        print(f\"\\n{cart_count} {cart_item}s have been added at {formatMoney(item_price)}!\")\n",
    "\n",
    "    def remove_from_cart(self):\n",
    "        cart_remove = input(\"What would you like to remove? \")\n",
    "        how_many = int(input(\"How many would you like to remove?\"))\n",
    "        \n",
    "        if cart_remove in self.items:\n",
    "            self.items[cart_remove][\"count\"] -= how_many\n",
    "            if self.items[cart_remove][\"count\"]<= 0:\n",
    "                del self.items[cart_remove]\n",
    "            \n",
    "        else:\n",
    "            print(\" \\n Can't seem to find this in the cart.\")\n",
    "        self.show()\n",
    "                \n",
    "    def show(self):\n",
    "        if len(self.items) > 0:\n",
    "            print(\"\\nWithin your cart layeth: \\n\")\n",
    "            basket_cost = 0\n",
    "            for item in self.items.items():\n",
    "                total_price = (item[1][\"count\"]) * (item[1][\"price\"])\n",
    "                print(str(item[1][\"count\"])+ \" $\" + str(formatMoney(item[1][\"price\"])), item[0] + \" for a total of $\" + str(formatMoney(total_price)))\n",
    "                basket_cost += total_price\n",
    "            print(\"Wow what a basket! at a bargain price of $\" + str(formatMoney(basket_cost)) + \"!\") \n",
    "        else:\n",
    "            print(\"Looks like an empty cart...\")\n",
    "             \n",
    "def run():\n",
    "    my_cart = Cart()\n",
    "\n",
    "    while True:\n",
    "        print(\"\"\" \n",
    "            Your options are in the parenthesis: \n",
    "\n",
    "                         (Add) to your cart?\n",
    "                         (Remove) from your cart?\n",
    "                         (Show) what's in your cart?\n",
    "                         (Quit) your cart? \n",
    "        \"\"\")\n",
    "        response = input(\"What would you like to do? \")\n",
    "        if response.lower() == 'quit':\n",
    "            print(\"Thank you for shopping with us! See You Soon!\")\n",
    "            break\n",
    "        \n",
    "        elif response.lower() == 'add':\n",
    "            my_cart.add_to_cart()\n",
    "\n",
    "        elif response.lower() == 'remove':\n",
    "            my_cart.remove_from_cart()\n",
    "\n",
    "        elif response.lower() == 'show':\n",
    "                my_cart.show()\n",
    "\n",
    "        else:\n",
    "            print(\"This is not an option\")\n",
    "            \n",
    "run()\n"
   ]
  },
  {
   "cell_type": "markdown",
   "metadata": {},
   "source": [
    "### Exercise 2 - Write a Python class which has two methods get_String and print_String. get_String accept a string from the user and print_String print the string in upper case"
   ]
  },
  {
   "cell_type": "code",
   "execution_count": 14,
   "metadata": {},
   "outputs": [
    {
     "name": "stdout",
     "output_type": "stream",
     "text": [
      "Type a word please: cake\n",
      "Your string, or twine is: cake\n"
     ]
    }
   ],
   "source": [
    "class Tot():\n",
    "    def __init__(self):\n",
    "        self.twine = \"\"\n",
    "    def get_String(self):\n",
    "        self.twine = input(\"Type a word please: \")\n",
    "    def print_String(self):\n",
    "        print(f\"Your string, or twine is: {self.twine}\")\n",
    "        \n",
    "tater = Tot()\n",
    "tater.get_String()\n",
    "tater.print_String()"
   ]
  },
  {
   "cell_type": "code",
   "execution_count": null,
   "metadata": {},
   "outputs": [],
   "source": []
  }
 ],
 "metadata": {
  "kernelspec": {
   "display_name": "Python 3 (ipykernel)",
   "language": "python",
   "name": "python3"
  },
  "language_info": {
   "codemirror_mode": {
    "name": "ipython",
    "version": 3
   },
   "file_extension": ".py",
   "mimetype": "text/x-python",
   "name": "python",
   "nbconvert_exporter": "python",
   "pygments_lexer": "ipython3",
   "version": "3.9.7"
  }
 },
 "nbformat": 4,
 "nbformat_minor": 2
}
