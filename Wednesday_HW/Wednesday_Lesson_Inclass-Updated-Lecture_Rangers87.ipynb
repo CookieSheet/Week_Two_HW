{
 "cells": [
  {
   "cell_type": "markdown",
   "metadata": {},
   "source": [
    "# Dictionaries, Sets, & Importing Modules"
   ]
  },
  {
   "cell_type": "markdown",
   "metadata": {},
   "source": [
    "## Tasks Today:\n",
    "\n",
    "1) Dictionary <br>\n",
    " &nbsp;&nbsp;&nbsp;&nbsp; a) Declaring (key, value) <br>\n",
    " &nbsp;&nbsp;&nbsp;&nbsp; b) Accessing Values <br>\n",
    " &nbsp;&nbsp;&nbsp;&nbsp; ------ Exercise #1 - Print the eye color of each person in a double nested dict <br>\n",
    " &nbsp;&nbsp;&nbsp;&nbsp; c) Adding New Pairs <br>\n",
    " &nbsp;&nbsp;&nbsp;&nbsp; d) Modifying Values <br>\n",
    " &nbsp;&nbsp;&nbsp;&nbsp; e) Removing Key, Value Pairs <br>\n",
    " &nbsp;&nbsp;&nbsp;&nbsp; f) Looping a Dictionary <br>\n",
    " &nbsp;&nbsp;&nbsp;&nbsp; g) Looping Only Keys <br>\n",
    " &nbsp;&nbsp;&nbsp;&nbsp; h) Looping Only Values <br>\n",
    " &nbsp;&nbsp;&nbsp;&nbsp; ------ Exercise #2 - Create a Function that Prints All Key Value Pairs within a print .format()  <br>\n",
    " &nbsp;&nbsp;&nbsp;&nbsp; i) sorted() <br>\n",
    " &nbsp;&nbsp;&nbsp;&nbsp; j) Lists with Dictionaries <br>\n",
    " &nbsp;&nbsp;&nbsp;&nbsp; k) Dictionaries with Lists <br>\n",
    " &nbsp;&nbsp;&nbsp;&nbsp; l) Dictionaries with Dictionaries <br>\n",
    " &nbsp;&nbsp;&nbsp;&nbsp; ------ Exercise #3 - Write a Function that asks someone's name and address, and then stores that into a dictionary, which prints all names and addresses after they're done putting information in...  <br>\n",
    "2) Dictionaries vs. Lists (over time)<br>\n",
    "3) Set <br>\n",
    " &nbsp;&nbsp;&nbsp;&nbsp; a) Declaring <br>\n",
    " &nbsp;&nbsp;&nbsp;&nbsp; b) .add() <br>\n",
    " &nbsp;&nbsp;&nbsp;&nbsp; c) .remove() <br>\n",
    " &nbsp;&nbsp;&nbsp;&nbsp; d) .union() <br>\n",
    " &nbsp;&nbsp;&nbsp;&nbsp; e) .intersection() <br>\n",
    " &nbsp;&nbsp;&nbsp;&nbsp; f) .difference() <br>\n",
    " &nbsp;&nbsp;&nbsp;&nbsp; g) Frozen Set <br>\n",
    "4) Modules <br>\n",
    " &nbsp;&nbsp;&nbsp;&nbsp; a) Importing Entire Modules <br>\n",
    " &nbsp;&nbsp;&nbsp;&nbsp; b) Importing Methods Only <br>\n",
    " &nbsp;&nbsp;&nbsp;&nbsp; c) Using the 'as' Keyword <br>\n",
    " &nbsp;&nbsp;&nbsp;&nbsp; d) Creating a Module <br>\n",
    "5) Exercises <br>\n",
    " &nbsp;&nbsp;&nbsp;&nbsp; a) Build a Shopping Cart <br>\n",
    " &nbsp;&nbsp;&nbsp;&nbsp; b) Create Your Own Module <br>"
   ]
  },
  {
   "cell_type": "markdown",
   "metadata": {},
   "source": [
    "## Dictionary <br>\n",
    "<p>A collection of data with 'key:value' pairs. Dictionaries are ordered as of Python 3.6</p>"
   ]
  },
  {
   "cell_type": "markdown",
   "metadata": {},
   "source": [
    "##### Declaring (key, value)"
   ]
  },
  {
   "cell_type": "code",
   "execution_count": 2,
   "metadata": {},
   "outputs": [],
   "source": [
    "# keys should be unique\n",
    "# can use numbers or strings as keys\n",
    "d_1 = {}\n",
    "\n",
    "# or\n",
    "\n",
    "d_2 = dict()\n",
    "\n",
    "d_3 = {\n",
    "    \"Tom\": \"255 Main Street\",\n",
    "    \"Jerry\" : \"256 Main Street\",\n",
    "    0 : \"This is a value for the key of 0\"\n",
    "}\n"
   ]
  },
  {
   "cell_type": "markdown",
   "metadata": {},
   "source": [
    "##### Accessing Values"
   ]
  },
  {
   "cell_type": "code",
   "execution_count": 5,
   "metadata": {},
   "outputs": [
    {
     "data": {
      "text/plain": [
       "'This is a value for the key of 0'"
      ]
     },
     "execution_count": 5,
     "metadata": {},
     "output_type": "execute_result"
    }
   ],
   "source": [
    "# dict[key]\n",
    "d_3[\"Jerry\"]\n",
    "d_3[0]"
   ]
  },
  {
   "cell_type": "markdown",
   "metadata": {},
   "source": [
    "### In-Class Exercise #1 - Print a formatted statement from the dictionary below <br>\n",
    "<p>The output should be '2018 Chevrolet Silverado'</p>"
   ]
  },
  {
   "cell_type": "code",
   "execution_count": 17,
   "metadata": {},
   "outputs": [
    {
     "name": "stdout",
     "output_type": "stream",
     "text": [
      "2018 Chevrolet Silverado\n"
     ]
    }
   ],
   "source": [
    "# use the dict below\n",
    "truck = {\n",
    "    \"year\": 2018,\n",
    "    'make': 'Chevrolet',\n",
    "    'model': 'Silverado'\n",
    "}\n",
    "\n",
    "print(truck[\"year\"], truck[\"make\"], truck[\"model\"])"
   ]
  },
  {
   "cell_type": "markdown",
   "metadata": {},
   "source": [
    "##### Adding New Pairs"
   ]
  },
  {
   "cell_type": "code",
   "execution_count": 18,
   "metadata": {},
   "outputs": [
    {
     "name": "stdout",
     "output_type": "stream",
     "text": [
      "{'Tom': '255 Main Street', 'Jerry': '256 Main Street', 0: 'This is a value for the key of 0', 'Spike': '257 Main Street'}\n"
     ]
    }
   ],
   "source": [
    "# dict[key] = value\n",
    "d_3[\"Spike\"] = \"257 Main Street\"\n",
    "\n",
    "print(d_3)"
   ]
  },
  {
   "cell_type": "markdown",
   "metadata": {},
   "source": [
    "##### Modifying Values"
   ]
  },
  {
   "cell_type": "code",
   "execution_count": 29,
   "metadata": {},
   "outputs": [
    {
     "data": {
      "text/plain": [
       "'257 Main Street CHicago, IL Chicago, IL Chicago, IL 60607 60607 60607 60607 60607'"
      ]
     },
     "execution_count": 29,
     "metadata": {},
     "output_type": "execute_result"
    }
   ],
   "source": [
    "# dict[key] = value\n",
    "placeholder = d_3[\"Spike\"]\n",
    "\n",
    "d_3[\"Spike\"] = placeholder + ' 60607'\n",
    "\n",
    "d_3\n",
    "\n",
    "d_3[\"Spike\"]"
   ]
  },
  {
   "cell_type": "markdown",
   "metadata": {},
   "source": [
    "##### Removing Key, Value Pairs"
   ]
  },
  {
   "cell_type": "code",
   "execution_count": 30,
   "metadata": {},
   "outputs": [
    {
     "data": {
      "text/plain": [
       "{'Tom': '255 Main Street',\n",
       " 'Jerry': '256 Main Street',\n",
       " 'Spike': '257 Main Street CHicago, IL Chicago, IL Chicago, IL 60607 60607 60607 60607 60607'}"
      ]
     },
     "execution_count": 30,
     "metadata": {},
     "output_type": "execute_result"
    }
   ],
   "source": [
    "# del dict[key]\n",
    "del d_3[0]\n",
    "\n",
    "d_3"
   ]
  },
  {
   "cell_type": "markdown",
   "metadata": {},
   "source": [
    "##### Looping a Dictionary"
   ]
  },
  {
   "cell_type": "code",
   "execution_count": 37,
   "metadata": {},
   "outputs": [
    {
     "name": "stdout",
     "output_type": "stream",
     "text": [
      "Tom | 255 Main Street\n",
      "Jerry | 256 Main Street\n",
      "Spike | 257 Main Street CHicago, IL Chicago, IL Chicago, IL 60607 60607 60607 60607 60607\n"
     ]
    }
   ],
   "source": [
    "# .items()\n",
    "# a, b, c = 1, 2, 3\n",
    "\n",
    "for name, address in d_3.items():\n",
    "    print(name, \"|\", address)\n"
   ]
  },
  {
   "cell_type": "markdown",
   "metadata": {},
   "source": [
    "##### Looping Only Keys"
   ]
  },
  {
   "cell_type": "code",
   "execution_count": 39,
   "metadata": {},
   "outputs": [
    {
     "name": "stdout",
     "output_type": "stream",
     "text": [
      "dict_keys(['Tom', 'Jerry', 'Spike'])\n",
      "dict_keys(['Tom', 'Jerry', 'Spike'])\n",
      "dict_keys(['Tom', 'Jerry', 'Spike'])\n"
     ]
    }
   ],
   "source": [
    "# .keys()\n",
    "for name in d_3:\n",
    "    print(d_3.keys())"
   ]
  },
  {
   "cell_type": "markdown",
   "metadata": {},
   "source": [
    "##### Looping Only Values"
   ]
  },
  {
   "cell_type": "code",
   "execution_count": 42,
   "metadata": {},
   "outputs": [
    {
     "name": "stdout",
     "output_type": "stream",
     "text": [
      "['255 Main Street', '256 Main Street', '257 Main Street CHicago, IL Chicago, IL Chicago, IL 60607 60607 60607 60607 60607']\n"
     ]
    }
   ],
   "source": [
    "value_list = [val for val in d_3.values()]\n",
    "print(value_list)"
   ]
  },
  {
   "cell_type": "code",
   "execution_count": null,
   "metadata": {
    "scrolled": false
   },
   "outputs": [],
   "source": []
  },
  {
   "cell_type": "code",
   "execution_count": 9,
   "metadata": {
    "scrolled": true
   },
   "outputs": [],
   "source": [
    "# .values()\n"
   ]
  },
  {
   "cell_type": "markdown",
   "metadata": {},
   "source": [
    "## In-Class Exercise #2 - Create a Function that Prints All Key Value Pairs within a print .format() <br>\n",
    "<p><b>Output should be:</b><br>\n",
    "Max has blue eyes<br>\n",
    "Lilly has brown eyes<br>\n",
    "Barney has blue eyes<br>\n",
    "etc.\n",
    "</p>"
   ]
  },
  {
   "cell_type": "code",
   "execution_count": 10,
   "metadata": {},
   "outputs": [],
   "source": [
    "# use the dict below\n",
    "people = {\n",
    "    'Max': 'blue',\n",
    "    'Lilly': 'brown',\n",
    "    'Barney': 'blue',\n",
    "    'Larney': 'brown',\n",
    "    'Ted': 'purple'\n",
    "}\n",
    "\n"
   ]
  },
  {
   "cell_type": "markdown",
   "metadata": {},
   "source": [
    "##### sorted()"
   ]
  },
  {
   "cell_type": "code",
   "execution_count": 11,
   "metadata": {},
   "outputs": [],
   "source": [
    "# sorts variables in order\n",
    "# sorted(dict.values()) or dict.keys() or dict.items()\n",
    "print(sorted(people.keys()))\n",
    "print(sorted(people.values()))\n",
    "print(sorted(people.items()))"
   ]
  },
  {
   "cell_type": "markdown",
   "metadata": {},
   "source": [
    "##### List with Dictionaries"
   ]
  },
  {
   "cell_type": "code",
   "execution_count": 52,
   "metadata": {},
   "outputs": [
    {
     "name": "stdout",
     "output_type": "stream",
     "text": [
      "{'random_girl': 'Barb', 'random_guy': 'Rob'}\n"
     ]
    },
    {
     "ename": "TypeError",
     "evalue": "'NoneType' object is not subscriptable",
     "output_type": "error",
     "traceback": [
      "\u001b[0;31m---------------------------------------------------------------------------\u001b[0m",
      "\u001b[0;31mTypeError\u001b[0m                                 Traceback (most recent call last)",
      "\u001b[0;32m/var/folders/h2/_w89d9ld5wx2h4jvzmgfxsm00000gn/T/ipykernel_48518/436290785.py\u001b[0m in \u001b[0;36m<module>\u001b[0;34m\u001b[0m\n\u001b[1;32m      1\u001b[0m \u001b[0mnames\u001b[0m \u001b[0;34m=\u001b[0m \u001b[0;34m[\u001b[0m\u001b[0;34m\"Dave\"\u001b[0m\u001b[0;34m,\u001b[0m \u001b[0;34m\"Sandy\"\u001b[0m\u001b[0;34m,\u001b[0m \u001b[0;34m\"Tony\"\u001b[0m\u001b[0;34m,\u001b[0m \u001b[0;34m{\u001b[0m\u001b[0;34m\"random_girl\"\u001b[0m \u001b[0;34m:\u001b[0m \u001b[0;34m\"Barb\"\u001b[0m\u001b[0;34m,\u001b[0m \u001b[0;34m\"random_guy\"\u001b[0m \u001b[0;34m:\u001b[0m \u001b[0;34m\"Rob\"\u001b[0m\u001b[0;34m}\u001b[0m\u001b[0;34m,\u001b[0m \u001b[0;34m[\u001b[0m\u001b[0;34m\"anonymous_guy\"\u001b[0m\u001b[0;34m,\u001b[0m \u001b[0;34m\"anonymous_girl\"\u001b[0m\u001b[0;34m]\u001b[0m\u001b[0;34m]\u001b[0m\u001b[0;34m\u001b[0m\u001b[0;34m\u001b[0m\u001b[0m\n\u001b[0;32m----> 2\u001b[0;31m \u001b[0mprint\u001b[0m\u001b[0;34m(\u001b[0m\u001b[0mnames\u001b[0m\u001b[0;34m[\u001b[0m\u001b[0;36m3\u001b[0m\u001b[0;34m]\u001b[0m\u001b[0;34m)\u001b[0m\u001b[0;34m[\u001b[0m\u001b[0;34m'random_guy'\u001b[0m\u001b[0;34m]\u001b[0m\u001b[0;34m\u001b[0m\u001b[0;34m\u001b[0m\u001b[0m\n\u001b[0m\u001b[1;32m      3\u001b[0m \u001b[0;34m\u001b[0m\u001b[0m\n\u001b[1;32m      4\u001b[0m \u001b[0;31m# for key in names[3]:\u001b[0m\u001b[0;34m\u001b[0m\u001b[0;34m\u001b[0m\u001b[0m\n\u001b[1;32m      5\u001b[0m \u001b[0;31m#     print(key)\u001b[0m\u001b[0;34m\u001b[0m\u001b[0;34m\u001b[0m\u001b[0m\n",
      "\u001b[0;31mTypeError\u001b[0m: 'NoneType' object is not subscriptable"
     ]
    }
   ],
   "source": [
    "names = [\"Dave\", \"Sandy\", \"Tony\", {\"random_girl\" : \"Barb\", \"random_guy\" : \"Rob\"}, [\"anonymous_guy\", \"anonymous_girl\"]]\n",
    "print(names[3])['random_guy']\n",
    "\n",
    "# for key in names[3]:\n",
    "#     print(key)\n",
    "print(names[4][1])    \n",
    "    "
   ]
  },
  {
   "cell_type": "markdown",
   "metadata": {},
   "source": [
    "##### Dictionaries with Lists"
   ]
  },
  {
   "cell_type": "code",
   "execution_count": 45,
   "metadata": {},
   "outputs": [
    {
     "name": "stdout",
     "output_type": "stream",
     "text": [
      "Johnson\n"
     ]
    }
   ],
   "source": [
    "# be careful when using numbers as keys in dictionaries, don't confuse them with indexes\n",
    "\n",
    "random_data = {\n",
    "    \"list_1\" : [45, 46, 47],\n",
    "    \"2\" : [\"Johnson\"]\n",
    "}\n",
    "\n",
    "print(random_data[\"2\"][0])"
   ]
  },
  {
   "cell_type": "markdown",
   "metadata": {},
   "source": [
    "##### Dictionaries with Dictionaries"
   ]
  },
  {
   "cell_type": "code",
   "execution_count": 54,
   "metadata": {},
   "outputs": [],
   "source": [
    "# to get values, must traverse through keys\n",
    "food_dict = {\n",
    "    \"Terrell\": {\n",
    "        \"Latin\": ['Taco','Arepa','Empanada'],\n",
    "        'noodles': ['instant','Pho','Ramen']\n",
    "    },\n",
    "     \"Ryan\": {\n",
    "        \"Latin\": [\"Tacos\",'Tacos','Tacos'],\n",
    "        \"Desserts\": [\"pie\",'ice cream','cookies']\n",
    "    },\n",
    "    \"josh\": {\n",
    "        \"latin\": ['Taco','quesadilla','torta'],\n",
    "        'noodles': ['vermacelli','Pho','tsukemen']\n",
    "    },\n",
    "    \"Brad\": {\n",
    "        \"Mexican\": ['Taco', 'Burrito'],\n",
    "        \"Desserts\": ['ice cream', 'cookies']\n",
    "    },\n",
    "    \"Jackie\": {\n",
    "        \"Latin\": [\"Tacos\",'Quesadillas','Papusas'],\n",
    "        \"Asian\": [\"Pho\", 'KBBQ','Hot Pot']\n",
    "    },\n",
    "    \"Michael Cook\": {\n",
    "        \"Bread\": [\"Foccacia\", \"Boule\", \"Joe\"],\n",
    "        \"noodles\": [\"linguini\", \"farfale\", \"elbow\"]\n",
    "    },\n",
    "    \"Garrett\": {\n",
    "        \"Asain\": [\"drunken noodles\", 'sushi', 'pad thia', 'chow mein'],\n",
    "        \"Mexican\" : [\"taco\", \"quesidilla\", \"chimichanga\"],\n",
    "        \"American\" : [\"hamburger\", \"beer\", \"fries\", \"cheese steak\"]\n",
    "    },\n",
    "    \"Alex\" : {\n",
    "        \"latin\" : ['Papusas', 'Tomales', 'Taco'],\n",
    "        \"noodles\" : ['Ramen', 'Pho', 'Spaghetti']  \n",
    "    },\n",
    "    \"Jess\": {\n",
    "        \"Latin\": [\"Burrito\",'Arepa','Empanadas'],\n",
    "        \"American\": [\"Chicken Salad\",'Chicken Sandwich','fries']\n",
    "    },\n",
    "    \"Hootie\": {\n",
    "        \"latin\": [\"coxhinas\", \"burritos\", \"qusadilla\"],\n",
    "        \"italian\": [\"spaghetti\", \"nno pasta\", \"meatballs\"]\n",
    "    },\n",
    "    'Faiber' : {\n",
    "        'latin' : ['Burrito','Emapanadas','Taquitos'],\n",
    "        'Bakes' : ['Bunuleos','Pan de Yuca','Pandebono']\n",
    "    },\n",
    "    \"Dom\" : {\n",
    "        \"italian\": ['filled pasta','sausage','cannoli'],\n",
    "        'midwestern':['corn','corn','corn']\n",
    "    },\n",
    "    \"Dominic\" : {\n",
    "    \"Italian\":['Pizza','Ravioli','Tortellini'],\n",
    "    \"Mexican\":['Tacos','enchilada']\n",
    "    }\n",
    "}\n"
   ]
  },
  {
   "cell_type": "markdown",
   "metadata": {},
   "source": [
    "#### Print out a statement that says \"Terrell's favorite food groups are (list the groups)\"\n",
    "#### Also show us everyone favorite food items. "
   ]
  },
  {
   "cell_type": "code",
   "execution_count": 149,
   "metadata": {},
   "outputs": [
    {
     "name": "stdout",
     "output_type": "stream",
     "text": [
      "Terrell favorite food groups are Mexican, LatinnoodlesLatinDessertslatinnoodlesMexicanDessertsLatinAsianBreadnoodlesAsainMexicanAmericanlatinnoodlesLatinAmericanlatinitalianlatinBakesitalianmidwesternItalianMexicanLatin noodles Latin Desserts latin noodles Mexican Desserts Latin Asian Bread noodles Asain Mexican American latin noodles Latin American latin italian latin Bakes italian midwestern Italian Mexican Latin noodles Latin Desserts latin noodles Mexican Desserts Latin Asian Bread noodles Asain Mexican American latin noodles Latin American latin italian latin Bakes italian midwestern Italian Mexican Latin noodles Latin Desserts latin noodles Mexican Desserts Latin Asian Bread noodles Asain Mexican American latin noodles Latin American latin italian latin Bakes italian midwestern Italian Mexican Latin noodles \n",
      "Ryan favorite food groups are Mexican, LatinnoodlesLatinDessertslatinnoodlesMexicanDessertsLatinAsianBreadnoodlesAsainMexicanAmericanlatinnoodlesLatinAmericanlatinitalianlatinBakesitalianmidwesternItalianMexicanLatin noodles Latin Desserts latin noodles Mexican Desserts Latin Asian Bread noodles Asain Mexican American latin noodles Latin American latin italian latin Bakes italian midwestern Italian Mexican Latin noodles Latin Desserts latin noodles Mexican Desserts Latin Asian Bread noodles Asain Mexican American latin noodles Latin American latin italian latin Bakes italian midwestern Italian Mexican Latin noodles Latin Desserts latin noodles Mexican Desserts Latin Asian Bread noodles Asain Mexican American latin noodles Latin American latin italian latin Bakes italian midwestern Italian Mexican Latin noodles Latin Desserts \n",
      "josh favorite food groups are Mexican, LatinnoodlesLatinDessertslatinnoodlesMexicanDessertsLatinAsianBreadnoodlesAsainMexicanAmericanlatinnoodlesLatinAmericanlatinitalianlatinBakesitalianmidwesternItalianMexicanLatin noodles Latin Desserts latin noodles Mexican Desserts Latin Asian Bread noodles Asain Mexican American latin noodles Latin American latin italian latin Bakes italian midwestern Italian Mexican Latin noodles Latin Desserts latin noodles Mexican Desserts Latin Asian Bread noodles Asain Mexican American latin noodles Latin American latin italian latin Bakes italian midwestern Italian Mexican Latin noodles Latin Desserts latin noodles Mexican Desserts Latin Asian Bread noodles Asain Mexican American latin noodles Latin American latin italian latin Bakes italian midwestern Italian Mexican Latin noodles Latin Desserts latin noodles \n",
      "Brad favorite food groups are Mexican, LatinnoodlesLatinDessertslatinnoodlesMexicanDessertsLatinAsianBreadnoodlesAsainMexicanAmericanlatinnoodlesLatinAmericanlatinitalianlatinBakesitalianmidwesternItalianMexicanLatin noodles Latin Desserts latin noodles Mexican Desserts Latin Asian Bread noodles Asain Mexican American latin noodles Latin American latin italian latin Bakes italian midwestern Italian Mexican Latin noodles Latin Desserts latin noodles Mexican Desserts Latin Asian Bread noodles Asain Mexican American latin noodles Latin American latin italian latin Bakes italian midwestern Italian Mexican Latin noodles Latin Desserts latin noodles Mexican Desserts Latin Asian Bread noodles Asain Mexican American latin noodles Latin American latin italian latin Bakes italian midwestern Italian Mexican Latin noodles Latin Desserts latin noodles Mexican Desserts \n",
      "Jackie favorite food groups are Mexican, LatinnoodlesLatinDessertslatinnoodlesMexicanDessertsLatinAsianBreadnoodlesAsainMexicanAmericanlatinnoodlesLatinAmericanlatinitalianlatinBakesitalianmidwesternItalianMexicanLatin noodles Latin Desserts latin noodles Mexican Desserts Latin Asian Bread noodles Asain Mexican American latin noodles Latin American latin italian latin Bakes italian midwestern Italian Mexican Latin noodles Latin Desserts latin noodles Mexican Desserts Latin Asian Bread noodles Asain Mexican American latin noodles Latin American latin italian latin Bakes italian midwestern Italian Mexican Latin noodles Latin Desserts latin noodles Mexican Desserts Latin Asian Bread noodles Asain Mexican American latin noodles Latin American latin italian latin Bakes italian midwestern Italian Mexican Latin noodles Latin Desserts latin noodles Mexican Desserts Latin Asian \n",
      "Michael Cook favorite food groups are Mexican, LatinnoodlesLatinDessertslatinnoodlesMexicanDessertsLatinAsianBreadnoodlesAsainMexicanAmericanlatinnoodlesLatinAmericanlatinitalianlatinBakesitalianmidwesternItalianMexicanLatin noodles Latin Desserts latin noodles Mexican Desserts Latin Asian Bread noodles Asain Mexican American latin noodles Latin American latin italian latin Bakes italian midwestern Italian Mexican Latin noodles Latin Desserts latin noodles Mexican Desserts Latin Asian Bread noodles Asain Mexican American latin noodles Latin American latin italian latin Bakes italian midwestern Italian Mexican Latin noodles Latin Desserts latin noodles Mexican Desserts Latin Asian Bread noodles Asain Mexican American latin noodles Latin American latin italian latin Bakes italian midwestern Italian Mexican Latin noodles Latin Desserts latin noodles Mexican Desserts Latin Asian Bread noodles \n",
      "Garrett favorite food groups are Mexican, LatinnoodlesLatinDessertslatinnoodlesMexicanDessertsLatinAsianBreadnoodlesAsainMexicanAmericanlatinnoodlesLatinAmericanlatinitalianlatinBakesitalianmidwesternItalianMexicanLatin noodles Latin Desserts latin noodles Mexican Desserts Latin Asian Bread noodles Asain Mexican American latin noodles Latin American latin italian latin Bakes italian midwestern Italian Mexican Latin noodles Latin Desserts latin noodles Mexican Desserts Latin Asian Bread noodles Asain Mexican American latin noodles Latin American latin italian latin Bakes italian midwestern Italian Mexican Latin noodles Latin Desserts latin noodles Mexican Desserts Latin Asian Bread noodles Asain Mexican American latin noodles Latin American latin italian latin Bakes italian midwestern Italian Mexican Latin noodles Latin Desserts latin noodles Mexican Desserts Latin Asian Bread noodles Asain Mexican American \n",
      "Alex favorite food groups are Mexican, LatinnoodlesLatinDessertslatinnoodlesMexicanDessertsLatinAsianBreadnoodlesAsainMexicanAmericanlatinnoodlesLatinAmericanlatinitalianlatinBakesitalianmidwesternItalianMexicanLatin noodles Latin Desserts latin noodles Mexican Desserts Latin Asian Bread noodles Asain Mexican American latin noodles Latin American latin italian latin Bakes italian midwestern Italian Mexican Latin noodles Latin Desserts latin noodles Mexican Desserts Latin Asian Bread noodles Asain Mexican American latin noodles Latin American latin italian latin Bakes italian midwestern Italian Mexican Latin noodles Latin Desserts latin noodles Mexican Desserts Latin Asian Bread noodles Asain Mexican American latin noodles Latin American latin italian latin Bakes italian midwestern Italian Mexican Latin noodles Latin Desserts latin noodles Mexican Desserts Latin Asian Bread noodles Asain Mexican American latin noodles \n",
      "Jess favorite food groups are Mexican, LatinnoodlesLatinDessertslatinnoodlesMexicanDessertsLatinAsianBreadnoodlesAsainMexicanAmericanlatinnoodlesLatinAmericanlatinitalianlatinBakesitalianmidwesternItalianMexicanLatin noodles Latin Desserts latin noodles Mexican Desserts Latin Asian Bread noodles Asain Mexican American latin noodles Latin American latin italian latin Bakes italian midwestern Italian Mexican Latin noodles Latin Desserts latin noodles Mexican Desserts Latin Asian Bread noodles Asain Mexican American latin noodles Latin American latin italian latin Bakes italian midwestern Italian Mexican Latin noodles Latin Desserts latin noodles Mexican Desserts Latin Asian Bread noodles Asain Mexican American latin noodles Latin American latin italian latin Bakes italian midwestern Italian Mexican Latin noodles Latin Desserts latin noodles Mexican Desserts Latin Asian Bread noodles Asain Mexican American latin noodles Latin American \n",
      "Hootie favorite food groups are Mexican, LatinnoodlesLatinDessertslatinnoodlesMexicanDessertsLatinAsianBreadnoodlesAsainMexicanAmericanlatinnoodlesLatinAmericanlatinitalianlatinBakesitalianmidwesternItalianMexicanLatin noodles Latin Desserts latin noodles Mexican Desserts Latin Asian Bread noodles Asain Mexican American latin noodles Latin American latin italian latin Bakes italian midwestern Italian Mexican Latin noodles Latin Desserts latin noodles Mexican Desserts Latin Asian Bread noodles Asain Mexican American latin noodles Latin American latin italian latin Bakes italian midwestern Italian Mexican Latin noodles Latin Desserts latin noodles Mexican Desserts Latin Asian Bread noodles Asain Mexican American latin noodles Latin American latin italian latin Bakes italian midwestern Italian Mexican Latin noodles Latin Desserts latin noodles Mexican Desserts Latin Asian Bread noodles Asain Mexican American latin noodles Latin American latin italian \n",
      "Faiber favorite food groups are Mexican, LatinnoodlesLatinDessertslatinnoodlesMexicanDessertsLatinAsianBreadnoodlesAsainMexicanAmericanlatinnoodlesLatinAmericanlatinitalianlatinBakesitalianmidwesternItalianMexicanLatin noodles Latin Desserts latin noodles Mexican Desserts Latin Asian Bread noodles Asain Mexican American latin noodles Latin American latin italian latin Bakes italian midwestern Italian Mexican Latin noodles Latin Desserts latin noodles Mexican Desserts Latin Asian Bread noodles Asain Mexican American latin noodles Latin American latin italian latin Bakes italian midwestern Italian Mexican Latin noodles Latin Desserts latin noodles Mexican Desserts Latin Asian Bread noodles Asain Mexican American latin noodles Latin American latin italian latin Bakes italian midwestern Italian Mexican Latin noodles Latin Desserts latin noodles Mexican Desserts Latin Asian Bread noodles Asain Mexican American latin noodles Latin American latin italian latin Bakes \n",
      "Dom favorite food groups are Mexican, LatinnoodlesLatinDessertslatinnoodlesMexicanDessertsLatinAsianBreadnoodlesAsainMexicanAmericanlatinnoodlesLatinAmericanlatinitalianlatinBakesitalianmidwesternItalianMexicanLatin noodles Latin Desserts latin noodles Mexican Desserts Latin Asian Bread noodles Asain Mexican American latin noodles Latin American latin italian latin Bakes italian midwestern Italian Mexican Latin noodles Latin Desserts latin noodles Mexican Desserts Latin Asian Bread noodles Asain Mexican American latin noodles Latin American latin italian latin Bakes italian midwestern Italian Mexican Latin noodles Latin Desserts latin noodles Mexican Desserts Latin Asian Bread noodles Asain Mexican American latin noodles Latin American latin italian latin Bakes italian midwestern Italian Mexican Latin noodles Latin Desserts latin noodles Mexican Desserts Latin Asian Bread noodles Asain Mexican American latin noodles Latin American latin italian latin Bakes italian midwestern \n",
      "Dominic favorite food groups are Mexican, LatinnoodlesLatinDessertslatinnoodlesMexicanDessertsLatinAsianBreadnoodlesAsainMexicanAmericanlatinnoodlesLatinAmericanlatinitalianlatinBakesitalianmidwesternItalianMexicanLatin noodles Latin Desserts latin noodles Mexican Desserts Latin Asian Bread noodles Asain Mexican American latin noodles Latin American latin italian latin Bakes italian midwestern Italian Mexican Latin noodles Latin Desserts latin noodles Mexican Desserts Latin Asian Bread noodles Asain Mexican American latin noodles Latin American latin italian latin Bakes italian midwestern Italian Mexican Latin noodles Latin Desserts latin noodles Mexican Desserts Latin Asian Bread noodles Asain Mexican American latin noodles Latin American latin italian latin Bakes italian midwestern Italian Mexican Latin noodles Latin Desserts latin noodles Mexican Desserts Latin Asian Bread noodles Asain Mexican American latin noodles Latin American latin italian latin Bakes italian midwestern Italian Mexican \n"
     ]
    }
   ],
   "source": [
    "# print(\"Terrell's favorite food groups are \")\n",
    "# for name, food in food_dict.items():\n",
    "#     for food_type in food.keys():\n",
    "#         print(name, \"favorite food groups are\", food_type)\n",
    "        \n",
    "for name, food in food_dict.items():\n",
    "    for food_type in food.keys():\n",
    "        food_group += food_type + \" \"\n",
    "    print(name, \"favorite food groups are \" + food_group)\n",
    "\n",
    "# for name, food in food_dict.items():\n",
    "#     for food_type in food.items():\n"
   ]
  },
  {
   "cell_type": "code",
   "execution_count": null,
   "metadata": {},
   "outputs": [],
   "source": []
  },
  {
   "cell_type": "markdown",
   "metadata": {},
   "source": [
    "## Dictionaries vs. Lists (over time) Example of RUNTIME\n",
    "### When inputting values in a Dictionary vs List"
   ]
  },
  {
   "cell_type": "code",
   "execution_count": 160,
   "metadata": {},
   "outputs": [],
   "source": [
    "import time\n",
    "\n",
    "# Generate a dictionary\n",
    "d = {}\n",
    "\n",
    "for i in range(10000000):\n",
    "    d[i] = \"value \" + str(i)\n",
    "    \n",
    "# Generate a list\n",
    "big_list =  [x for x in range(10000000)]\n",
    "\n"
   ]
  },
  {
   "cell_type": "code",
   "execution_count": 157,
   "metadata": {},
   "outputs": [
    {
     "ename": "KeyError",
     "evalue": "9999999",
     "output_type": "error",
     "traceback": [
      "\u001b[0;31m---------------------------------------------------------------------------\u001b[0m",
      "\u001b[0;31mKeyError\u001b[0m                                  Traceback (most recent call last)",
      "\u001b[0;32m/var/folders/h2/_w89d9ld5wx2h4jvzmgfxsm00000gn/T/ipykernel_48518/1172021141.py\u001b[0m in \u001b[0;36m<module>\u001b[0;34m\u001b[0m\n\u001b[1;32m      1\u001b[0m \u001b[0;31m# Track the time for the dictionary\u001b[0m\u001b[0;34m\u001b[0m\u001b[0;34m\u001b[0m\u001b[0m\n\u001b[1;32m      2\u001b[0m \u001b[0mstart_time\u001b[0m \u001b[0;34m=\u001b[0m \u001b[0mtime\u001b[0m\u001b[0;34m.\u001b[0m\u001b[0mtime\u001b[0m\u001b[0;34m(\u001b[0m\u001b[0;34m)\u001b[0m\u001b[0;34m\u001b[0m\u001b[0;34m\u001b[0m\u001b[0m\n\u001b[0;32m----> 3\u001b[0;31m \u001b[0mprint\u001b[0m\u001b[0;34m(\u001b[0m\u001b[0md\u001b[0m\u001b[0;34m[\u001b[0m\u001b[0;36m9999999\u001b[0m\u001b[0;34m]\u001b[0m\u001b[0;34m)\u001b[0m\u001b[0;34m\u001b[0m\u001b[0;34m\u001b[0m\u001b[0m\n\u001b[0m",
      "\u001b[0;31mKeyError\u001b[0m: 9999999"
     ]
    }
   ],
   "source": [
    "# Track the time for the dictionary\n",
    "start_time = time.time()\n",
    "print(d[9999999])\n",
    "\n",
    "end_time = time.time() - start_time\n",
    "print(f\"Elapsed time for disctionary: {end_time}\")\n",
    "\n",
    "#Track time for the list\n",
    "\n",
    "for i in range(len(big_list)):\n",
    "    if i == 9999999:\n",
    "        print(i)\n",
    "end_time = time.time() - start_time\n",
    "print(f\"Elapsed time for disctionary: {end_time}\")"
   ]
  },
  {
   "cell_type": "markdown",
   "metadata": {},
   "source": [
    "## Exercise #3 - Write a Function that asks someone's name and address, and then stores that into a dictionary, and continues to do so until they choose to 'quit'. Once they quit, the program should print all names and addresses. <br>\n",
    "<p>\n",
    "<b>Proper steps:</b><br>\n",
    "step 1: write a function that takes in information and stores it in a dictionary<br>\n",
    "step 2: define an empty dictionary to work with<br>\n",
    "step 3: create our loop, which asks the user for information until they quit<br>\n",
    "step 4: ask for the information, and store it into variables<br>\n",
    "step 5: check if the user types quit<br>\n",
    "step 5a: print out all information<br>\n",
    "step 5b: break out of the loop<br>\n",
    "step 6: if they didn't quit, add the information to the dictionary<br>\n",
    "step 7: invoke the function by calling it\n",
    "</p>"
   ]
  },
  {
   "cell_type": "code",
   "execution_count": 177,
   "metadata": {},
   "outputs": [
    {
     "name": "stdout",
     "output_type": "stream",
     "text": [
      "Would you like to add(a) to the dictionary, show(s) info, quit(q)?a\n",
      "name? Michael\n",
      "adress? 500 Bella Vista\n",
      "Would you like to add(a) to the dictionary, show(s) info, quit(q)?s\n",
      "{'Michael': '500 Bella Vista'}\n",
      "Would you like to add(a) to the dictionary, show(s) info, quit(q)?q\n"
     ]
    }
   ],
   "source": [
    "from IPython.display import clear_output\n",
    "clear_output()\n",
    "\n",
    "# Step 1\n",
    "def storeInfo(key, value):\n",
    "    info[key] = value\n",
    "\n",
    "info = {}\n",
    "\n",
    "active = True\n",
    "while active:\n",
    "    user_msg = input(\"Would you like to add(a) to the dictionary, show(s) info, quit(q)?\")\n",
    "    \n",
    "    if user_msg == \"q\":\n",
    "        active = False\n",
    "    elif user_msg == \"a\":\n",
    "        key_msg = input(\"name? \")\n",
    "        value_msg = input(\"adress? \")\n",
    "        storeInfo(key_msg, value_msg)\n",
    "    elif user_msg == \"s\":\n",
    "        print(info)"
   ]
  },
  {
   "cell_type": "markdown",
   "metadata": {},
   "source": [
    "## Set <br>\n",
    "<p>A Set is an unordered collection data type that is iterable (loop), mutable, and has no duplicate elements.<br>Major advantage is that it is highly optimized in checking if something is in the set, as opposed to checking if something is in a list.</p>"
   ]
  },
  {
   "cell_type": "markdown",
   "metadata": {},
   "source": [
    "##### Declaring"
   ]
  },
  {
   "cell_type": "code",
   "execution_count": 190,
   "metadata": {},
   "outputs": [
    {
     "ename": "TypeError",
     "evalue": "'str' object is not callable",
     "output_type": "error",
     "traceback": [
      "\u001b[0;31m---------------------------------------------------------------------------\u001b[0m",
      "\u001b[0;31mTypeError\u001b[0m                                 Traceback (most recent call last)",
      "\u001b[0;32m/var/folders/h2/_w89d9ld5wx2h4jvzmgfxsm00000gn/T/ipykernel_48518/749323605.py\u001b[0m in \u001b[0;36m<module>\u001b[0;34m\u001b[0m\n\u001b[1;32m      2\u001b[0m \u001b[0;31m# no order {3, 2, 1} outputs as {1, 2, 3}\u001b[0m\u001b[0;34m\u001b[0m\u001b[0;34m\u001b[0m\u001b[0m\n\u001b[1;32m      3\u001b[0m \u001b[0ms\u001b[0m \u001b[0;34m=\u001b[0m \u001b[0mset\u001b[0m\u001b[0;34m(\u001b[0m\u001b[0;34m)\u001b[0m\u001b[0;34m\u001b[0m\u001b[0;34m\u001b[0m\u001b[0m\n\u001b[0;32m----> 4\u001b[0;31m \u001b[0mtype\u001b[0m\u001b[0;34m(\u001b[0m\u001b[0ms\u001b[0m\u001b[0;34m)\u001b[0m\u001b[0;34m\u001b[0m\u001b[0;34m\u001b[0m\u001b[0m\n\u001b[0m\u001b[1;32m      5\u001b[0m \u001b[0;34m\u001b[0m\u001b[0m\n\u001b[1;32m      6\u001b[0m \u001b[0mnums\u001b[0m \u001b[0;34m=\u001b[0m \u001b[0;34m{\u001b[0m\u001b[0;36m4\u001b[0m\u001b[0;34m,\u001b[0m\u001b[0;36m1\u001b[0m\u001b[0;34m,\u001b[0m\u001b[0;36m8\u001b[0m\u001b[0;34m,\u001b[0m\u001b[0;36m4\u001b[0m\u001b[0;34m}\u001b[0m\u001b[0;34m\u001b[0m\u001b[0;34m\u001b[0m\u001b[0m\n",
      "\u001b[0;31mTypeError\u001b[0m: 'str' object is not callable"
     ]
    }
   ],
   "source": [
    "\n",
    "# set() or {}\n",
    "# no order {3, 2, 1} outputs as {1, 2, 3}\n",
    "s = set()\n",
    "type(s)\n",
    "\n",
    "nums = {4,1,8,4}\n",
    "print(nums)"
   ]
  },
  {
   "cell_type": "markdown",
   "metadata": {},
   "source": [
    "##### .add()"
   ]
  },
  {
   "cell_type": "code",
   "execution_count": 182,
   "metadata": {},
   "outputs": [
    {
     "name": "stdout",
     "output_type": "stream",
     "text": [
      "{8, 1, 4, 22}\n"
     ]
    }
   ],
   "source": [
    "# set.add()\n",
    "nums.add(22)\n",
    "print(nums)"
   ]
  },
  {
   "cell_type": "markdown",
   "metadata": {},
   "source": [
    "##### .remove()"
   ]
  },
  {
   "cell_type": "code",
   "execution_count": 183,
   "metadata": {},
   "outputs": [
    {
     "name": "stdout",
     "output_type": "stream",
     "text": [
      "{8, 1, 4}\n"
     ]
    }
   ],
   "source": [
    "# removes by value\n",
    "# set.remove()\n",
    "# nums.remove(56)\n",
    "nums.remove(22)\n",
    "print(nums)"
   ]
  },
  {
   "cell_type": "markdown",
   "metadata": {},
   "source": [
    "##### .union() "
   ]
  },
  {
   "cell_type": "code",
   "execution_count": 184,
   "metadata": {},
   "outputs": [
    {
     "name": "stdout",
     "output_type": "stream",
     "text": [
      "{1, 2, 3, 4, 5, 6}\n",
      "{1, 2, 3, 4, 5, 6}\n"
     ]
    }
   ],
   "source": [
    "# Returns a union of two sets, can also use '|' or set.union(set)\n",
    "# joins all numbers, gets rid of duplicates\n",
    "s1 = {1,2,3,4}\n",
    "s2 = {3,4,5,6}\n",
    "\n",
    "s3 = s1.union(s2)\n",
    "\n",
    "#or\n",
    "s4 = s1 | s2\n",
    "\n",
    "print(s3)\n",
    "print(s4)\n",
    "\n"
   ]
  },
  {
   "cell_type": "markdown",
   "metadata": {},
   "source": [
    "##### .intersection()"
   ]
  },
  {
   "cell_type": "code",
   "execution_count": 191,
   "metadata": {},
   "outputs": [
    {
     "name": "stdout",
     "output_type": "stream",
     "text": [
      "{3, 4}\n",
      "{3, 4}\n"
     ]
    }
   ],
   "source": [
    "# Returns an intersection of two sets, can also use '&'\n",
    "# only takes similar elements from both sets\n",
    "s5 = s1.intersection(s2)\n",
    "\n",
    "print(s5)\n",
    "\n",
    "s6 = s1 & s2\n",
    "\n",
    "print(s6)"
   ]
  },
  {
   "cell_type": "markdown",
   "metadata": {},
   "source": [
    "##### .difference()"
   ]
  },
  {
   "cell_type": "code",
   "execution_count": 194,
   "metadata": {},
   "outputs": [
    {
     "name": "stdout",
     "output_type": "stream",
     "text": [
      "{1, 2}\n",
      "{5, 6}\n"
     ]
    }
   ],
   "source": [
    "# Returns a set containing all the elements of invoking set that are not in the second set, can also use '-'\n",
    "# only takes values from the first set that are not in the second set\n",
    "# order matters\n",
    "\n",
    "s7 = s1.difference(s2)\n",
    "\n",
    "print(s7)\n",
    "\n",
    "s8 = s2 - s1\n",
    "\n",
    "print(s8)"
   ]
  },
  {
   "cell_type": "markdown",
   "metadata": {},
   "source": [
    "##### .clear()"
   ]
  },
  {
   "cell_type": "code",
   "execution_count": 195,
   "metadata": {},
   "outputs": [
    {
     "name": "stdout",
     "output_type": "stream",
     "text": [
      "set()\n"
     ]
    }
   ],
   "source": [
    "# Empties the whole set\n",
    "# set.clear()\n",
    "s8.clear()\n",
    "print(s8)"
   ]
  },
  {
   "cell_type": "code",
   "execution_count": null,
   "metadata": {},
   "outputs": [],
   "source": []
  },
  {
   "cell_type": "markdown",
   "metadata": {},
   "source": [
    "##### Frozenset <br>\n",
    "<p>Frozen sets are immutable objects that only support methods and operators that produce a result without affecting the frozen set or sets to which they are applied.</p><br><b>Unique & Immutable</b>"
   ]
  },
  {
   "cell_type": "code",
   "execution_count": 197,
   "metadata": {},
   "outputs": [
    {
     "name": "stdout",
     "output_type": "stream",
     "text": [
      "frozenset({1, 2, 3, 4, 5, 6})\n"
     ]
    },
    {
     "ename": "AttributeError",
     "evalue": "'frozenset' object has no attribute 'add'",
     "output_type": "error",
     "traceback": [
      "\u001b[0;31m---------------------------------------------------------------------------\u001b[0m",
      "\u001b[0;31mAttributeError\u001b[0m                            Traceback (most recent call last)",
      "\u001b[0;32m/var/folders/h2/_w89d9ld5wx2h4jvzmgfxsm00000gn/T/ipykernel_48518/75608025.py\u001b[0m in \u001b[0;36m<module>\u001b[0;34m\u001b[0m\n\u001b[1;32m      2\u001b[0m \u001b[0mmy_frozen_set\u001b[0m \u001b[0;34m=\u001b[0m \u001b[0mfrozenset\u001b[0m\u001b[0;34m(\u001b[0m\u001b[0ms3\u001b[0m\u001b[0;34m)\u001b[0m\u001b[0;34m\u001b[0m\u001b[0;34m\u001b[0m\u001b[0m\n\u001b[1;32m      3\u001b[0m \u001b[0mprint\u001b[0m\u001b[0;34m(\u001b[0m\u001b[0mmy_frozen_set\u001b[0m\u001b[0;34m)\u001b[0m\u001b[0;34m\u001b[0m\u001b[0;34m\u001b[0m\u001b[0m\n\u001b[0;32m----> 4\u001b[0;31m \u001b[0mmy_frozen_set\u001b[0m\u001b[0;34m.\u001b[0m\u001b[0madd\u001b[0m\u001b[0;34m(\u001b[0m\u001b[0;36m22\u001b[0m\u001b[0;34m)\u001b[0m\u001b[0;34m\u001b[0m\u001b[0;34m\u001b[0m\u001b[0m\n\u001b[0m",
      "\u001b[0;31mAttributeError\u001b[0m: 'frozenset' object has no attribute 'add'"
     ]
    }
   ],
   "source": [
    "# frozenset([])\n",
    "my_frozen_set = frozenset(s3)\n",
    "print(my_frozen_set)\n",
    "my_frozen_set.add(22)"
   ]
  },
  {
   "cell_type": "markdown",
   "metadata": {},
   "source": [
    "## Modules"
   ]
  },
  {
   "cell_type": "markdown",
   "metadata": {},
   "source": [
    "##### Importing Entire Modules"
   ]
  },
  {
   "cell_type": "code",
   "execution_count": 201,
   "metadata": {},
   "outputs": [
    {
     "name": "stdout",
     "output_type": "stream",
     "text": [
      "3\n"
     ]
    }
   ],
   "source": [
    "# import \n",
    "# or \n",
    "# from 'xxx' import *\n",
    "import math\n",
    "\n",
    "print(math.floor(math.pi))\n"
   ]
  },
  {
   "cell_type": "markdown",
   "metadata": {},
   "source": [
    "##### Importing Methods Only"
   ]
  },
  {
   "cell_type": "code",
   "execution_count": 203,
   "metadata": {},
   "outputs": [
    {
     "name": "stdout",
     "output_type": "stream",
     "text": [
      "3\n"
     ]
    }
   ],
   "source": [
    "# from 'xxx' import 'xxx'\n",
    "from math import floor, pi\n",
    "    \n",
    "print(floor(pi))\n",
    "\n"
   ]
  },
  {
   "cell_type": "markdown",
   "metadata": {},
   "source": [
    "##### Using the 'as' Keyword"
   ]
  },
  {
   "cell_type": "code",
   "execution_count": 204,
   "metadata": {},
   "outputs": [
    {
     "name": "stdout",
     "output_type": "stream",
     "text": [
      "3\n"
     ]
    }
   ],
   "source": [
    "# from 'xxx' import 'xxx' as 'xxx' or import 'xxx' as 'xxx'\n",
    "# from math import floor as f\n",
    "\n",
    "from math import floor as f, pi as p\n",
    "\n",
    "print(f(p))"
   ]
  },
  {
   "cell_type": "markdown",
   "metadata": {},
   "source": [
    "##### Creating a Module"
   ]
  },
  {
   "cell_type": "code",
   "execution_count": 206,
   "metadata": {},
   "outputs": [
    {
     "name": "stdout",
     "output_type": "stream",
     "text": [
      "Hello Mr/Ms Michael...we've been waiting for you!\n"
     ]
    }
   ],
   "source": [
    "from module import printName as pn\n",
    "\n",
    "pn(\"Michael\")"
   ]
  },
  {
   "cell_type": "markdown",
   "metadata": {},
   "source": [
    "# Exercises"
   ]
  },
  {
   "cell_type": "markdown",
   "metadata": {},
   "source": [
    "### 1) Build a Shopping Cart <br>\n",
    "<p><b>You can use either lists or dictionaries. The program should have the following capabilities:</b><br><br>\n",
    "1) Takes in input <br>\n",
    "2) Stores user input into a dictionary or list <br>\n",
    "3) The User can add or delete items <br>\n",
    "4) The User can see current shopping list <br>\n",
    "5) The program Loops until user 'quits' <br>\n",
    "6) Upon quiting the program, print out all items in the user's list <br>\n",
    "</p>"
   ]
  },
  {
   "cell_type": "code",
   "execution_count": 3,
   "metadata": {},
   "outputs": [
    {
     "name": "stdout",
     "output_type": "stream",
     "text": [
      " \n",
      " Welcome to iCart shopping! Please select from the following options: \n",
      "\n",
      "\n",
      "            would you like to add to the cart (a)? \n",
      "            See the contents of the cart(o)?\n",
      "            Remove anything from the cart(r)?\n",
      "            Quit(q)?\n",
      "    o\n",
      "There are 1 blueberries's in the cart at a price of $3.00 each for a total of $3.00.\n",
      "\n",
      "There are 4 orange's in the cart at a price of $1.00 each for a total of $4.00.\n",
      "\n",
      "There are 50 beer's in the cart at a price of $0.75 each for a total of $37.50.\n",
      "\n",
      "The total price of the cart is: $44.50\n",
      "\n",
      "\n",
      "            would you like to add to the cart (a)? \n",
      "            See the contents of the cart(o)?\n",
      "            Remove anything from the cart(r)?\n",
      "            Quit(q)?\n",
      "    a\n",
      "What would you like to add to the cart? human\n",
      "How much of this item do you want? 4\n",
      "At what price(ex .50, ex 2.75, 100.00) 500.00\n",
      "\n",
      "\n",
      "            would you like to add to the cart (a)? \n",
      "            See the contents of the cart(o)?\n",
      "            Remove anything from the cart(r)?\n",
      "            Quit(q)?\n",
      "    o\n",
      "There are 1 blueberries's in the cart at a price of $3.00 each for a total of $3.00.\n",
      "\n",
      "There are 4 orange's in the cart at a price of $1.00 each for a total of $4.00.\n",
      "\n",
      "There are 50 beer's in the cart at a price of $0.75 each for a total of $37.50.\n",
      "\n",
      "There are 4 human's in the cart at a price of $500.00 each for a total of $2000.00.\n",
      "\n",
      "The total price of the cart is: $2044.50\n",
      "\n",
      "\n",
      "            would you like to add to the cart (a)? \n",
      "            See the contents of the cart(o)?\n",
      "            Remove anything from the cart(r)?\n",
      "            Quit(q)?\n",
      "    r\n",
      "What would you like to remove? orange\n",
      "How many would you like to remove?3\n",
      "\n",
      "\n",
      "            would you like to add to the cart (a)? \n",
      "            See the contents of the cart(o)?\n",
      "            Remove anything from the cart(r)?\n",
      "            Quit(q)?\n",
      "    o\n",
      "There are 1 blueberries's in the cart at a price of $3.00 each for a total of $3.00.\n",
      "\n",
      "There are 1 orange's in the cart at a price of $1.00 each for a total of $1.00.\n",
      "\n",
      "There are 50 beer's in the cart at a price of $0.75 each for a total of $37.50.\n",
      "\n",
      "There are 4 human's in the cart at a price of $500.00 each for a total of $2000.00.\n",
      "\n",
      "The total price of the cart is: $2041.50\n",
      "\n",
      "\n",
      "            would you like to add to the cart (a)? \n",
      "            See the contents of the cart(o)?\n",
      "            Remove anything from the cart(r)?\n",
      "            Quit(q)?\n",
      "    q\n"
     ]
    }
   ],
   "source": [
    "from IPython.display import clear_output\n",
    "from cookies_module import formatMoney\n",
    "\n",
    "cart_dict = {\"blueberries\" : {\"count\" : 1, \"price\" : 3.00},\n",
    "             \"orange\" : {\"count\" : 4, \"price\" : 1.00},\n",
    "             \"beer\" : {\"count\" : 50, \"price\" : .75}}\n",
    "active = True\n",
    "print(\" \\n Welcome to iCart shopping! Please select from the following options: \")\n",
    "\n",
    "while active: \n",
    "    message = input(\"\"\"\n",
    "\n",
    "            would you like to add to the cart (a)? \n",
    "            See the contents of the cart(o)?\n",
    "            Remove anything from the cart(r)?\n",
    "            Quit(q)?\n",
    "    \"\"\")\n",
    "\n",
    "    if message.lower() == 'q':\n",
    "        active = False\n",
    "\n",
    "    elif message.lower() == 'a':\n",
    "        cart_item = input(\"What would you like to add to the cart? \")\n",
    "        cart_count = input(\"How much of this item do you want? \")\n",
    "        item_price = input(\"At what price(ex .50, ex 2.75, 100.00) \")\n",
    "            \n",
    "        cart_dict[cart_item] = {\"count\" : cart_count, \"price\" : item_price}\n",
    "\n",
    "    elif message.lower() == 'o':\n",
    "        total_price = 0.0\n",
    "        for cart_key in cart_dict:\n",
    "\n",
    "            fprice = float(cart_dict[cart_key][\"price\"])\n",
    "            tprice = float(cart_dict[cart_key][\"price\"]) * int(cart_dict[cart_key][\"count\"])\n",
    "            \n",
    "\n",
    "            print(\"There are \" + str(cart_dict[cart_key][\"count\"])\n",
    "                  + \" \" + cart_key + \"'s in the cart at a price of $\" \n",
    "                  + str(\"{:.2f}\".format(fprice)) \n",
    "                  + \" each for a total of $\" + str(\"{:.2f}\".format(tprice)) + \".\\n\")\n",
    "\n",
    "            total_price += float(cart_dict[cart_key][\"price\"]) * int(cart_dict[cart_key][\"count\"])\n",
    "\n",
    "        total_price = \"{:.2f}\".format(total_price)\n",
    "\n",
    "        print(\"The total price of the cart is: $\" + str(total_price))\n",
    "\n",
    "    elif message.lower() == 'r':\n",
    "        message = input(\"What would you like to remove? \")\n",
    "        if message in cart_dict:\n",
    "            how_many = input(\"How many would you like to remove?\")\n",
    "            cart_dict[message][\"count\"] = int(cart_dict[message][\"count\"]) - int(how_many)\n",
    "            if cart_dict[message][\"count\"] < 0:\n",
    "                del cart_dict[message]\n",
    "        else:\n",
    "            print(\" \\n Can't seem to find this in the cart.\")\n",
    "\n",
    "    else:\n",
    "        print(\"This is not an option!\")"
   ]
  },
  {
   "cell_type": "markdown",
   "metadata": {},
   "source": [
    "### 2) Create a Module in VS Code and Import It into jupyter notebook <br>\n",
    "<p><b>Module should have the following capabilities:</b><br><br>\n",
    "1) Has a function to calculate the square footage of a house <br>\n",
    "    <b>Reminder of Formula: Length X Width == Area<br>\n",
    "        <hr>\n",
    "2) Has a function to calculate the circumference of a circle <br><br>\n",
    "<b>Program in Jupyter Notebook should take in user input and use imported functions to calculate a circle's circumference or a houses square footage</b>\n",
    "</p>"
   ]
  },
  {
   "cell_type": "code",
   "execution_count": 15,
   "metadata": {},
   "outputs": [
    {
     "name": "stdout",
     "output_type": "stream",
     "text": [
      "Whats the length of your sqaure?2\n",
      "Whats the length?3\n",
      "Your area is : 6\n",
      "Whats the radius of your circle?4\n",
      "Your circumference is 25.12\n"
     ]
    }
   ],
   "source": [
    "from shapemodule import areaOfSqaure\n",
    "from shapemodule import circumferenceOfCircle\n",
    "\n",
    "length = input(\"Whats the length of your sqaure?\")\n",
    "width = input(\"Whats the length?\")\n",
    "\n",
    "print(\"Your area is : \" + str(areaOfSqaure(int(length), int(width))))\n",
    "\n",
    "radius = input(\"Whats the radius of your circle?\")\n",
    "print(\"Your circumference is \" + str(circumferenceOfCircle(float(radius))))"
   ]
  },
  {
   "cell_type": "code",
   "execution_count": null,
   "metadata": {},
   "outputs": [],
   "source": []
  }
 ],
 "metadata": {
  "kernelspec": {
   "display_name": "Python 3 (ipykernel)",
   "language": "python",
   "name": "python3"
  },
  "language_info": {
   "codemirror_mode": {
    "name": "ipython",
    "version": 3
   },
   "file_extension": ".py",
   "mimetype": "text/x-python",
   "name": "python",
   "nbconvert_exporter": "python",
   "pygments_lexer": "ipython3",
   "version": "3.9.10"
  }
 },
 "nbformat": 4,
 "nbformat_minor": 2
}
