{
 "cells": [
  {
   "cell_type": "markdown",
   "metadata": {},
   "source": [
    "# Object Oriented Programming 2 - examples and APIs\n"
   ]
  },
  {
   "cell_type": "markdown",
   "metadata": {},
   "source": [
    "## Tasks Today:\n",
    "\n",
    "   \n",
    "\n",
    "1) <b>Shopping Cart Example</b> <br>\n",
    "2) <b>Requests and the pokemon API </b> <br>\n",
    " "
   ]
  },
  {
   "cell_type": "markdown",
   "metadata": {},
   "source": [
    "# Goal \n",
    "### build a shopping cart program with prices and quantities using objects and a dictionary"
   ]
  },
  {
   "cell_type": "code",
   "execution_count": 14,
   "metadata": {},
   "outputs": [
    {
     "name": "stdout",
     "output_type": "stream",
     "text": [
      "\n",
      "        Welcome to the online Shopping Program.\n",
      "        Options:\n",
      "        [1] Show Current Cart\n",
      "        [2] Add Item\n",
      "        [3] Remove Item\n",
      "        [4] Quit\n",
      "        \n",
      "What would you like to do? \n",
      "Invalid response... please try again \n",
      "\n",
      "        Welcome to the online Shopping Program.\n",
      "        Options:\n",
      "        [1] Show Current Cart\n",
      "        [2] Add Item\n",
      "        [3] Remove Item\n",
      "        [4] Quit\n",
      "        \n",
      "What would you like to do? \n",
      "Invalid response... please try again \n",
      "\n",
      "        Welcome to the online Shopping Program.\n",
      "        Options:\n",
      "        [1] Show Current Cart\n",
      "        [2] Add Item\n",
      "        [3] Remove Item\n",
      "        [4] Quit\n",
      "        \n",
      "What would you like to do? \n",
      "Invalid response... please try again \n",
      "\n",
      "        Welcome to the online Shopping Program.\n",
      "        Options:\n",
      "        [1] Show Current Cart\n",
      "        [2] Add Item\n",
      "        [3] Remove Item\n",
      "        [4] Quit\n",
      "        \n",
      "What would you like to do? \n",
      "Invalid response... please try again \n",
      "\n",
      "        Welcome to the online Shopping Program.\n",
      "        Options:\n",
      "        [1] Show Current Cart\n",
      "        [2] Add Item\n",
      "        [3] Remove Item\n",
      "        [4] Quit\n",
      "        \n",
      "What would you like to do? \n",
      "Invalid response... please try again \n",
      "\n",
      "        Welcome to the online Shopping Program.\n",
      "        Options:\n",
      "        [1] Show Current Cart\n",
      "        [2] Add Item\n",
      "        [3] Remove Item\n",
      "        [4] Quit\n",
      "        \n",
      "What would you like to do? \n",
      "Invalid response... please try again \n",
      "\n",
      "        Welcome to the online Shopping Program.\n",
      "        Options:\n",
      "        [1] Show Current Cart\n",
      "        [2] Add Item\n",
      "        [3] Remove Item\n",
      "        [4] Quit\n",
      "        \n",
      "What would you like to do? \n",
      "Invalid response... please try again \n",
      "\n",
      "        Welcome to the online Shopping Program.\n",
      "        Options:\n",
      "        [1] Show Current Cart\n",
      "        [2] Add Item\n",
      "        [3] Remove Item\n",
      "        [4] Quit\n",
      "        \n"
     ]
    },
    {
     "ename": "KeyboardInterrupt",
     "evalue": "Interrupted by user",
     "output_type": "error",
     "traceback": [
      "\u001b[0;31m---------------------------------------------------------------------------\u001b[0m",
      "\u001b[0;31mKeyboardInterrupt\u001b[0m                         Traceback (most recent call last)",
      "\u001b[0;32m/var/folders/h2/_w89d9ld5wx2h4jvzmgfxsm00000gn/T/ipykernel_29026/1914494579.py\u001b[0m in \u001b[0;36m<module>\u001b[0;34m\u001b[0m\n\u001b[1;32m     83\u001b[0m \u001b[0;34m\u001b[0m\u001b[0m\n\u001b[1;32m     84\u001b[0m \u001b[0mmy_program\u001b[0m \u001b[0;34m=\u001b[0m \u001b[0mMain\u001b[0m\u001b[0;34m(\u001b[0m\u001b[0;34m)\u001b[0m\u001b[0;34m\u001b[0m\u001b[0;34m\u001b[0m\u001b[0m\n\u001b[0;32m---> 85\u001b[0;31m \u001b[0mmy_program\u001b[0m\u001b[0;34m.\u001b[0m\u001b[0mrun\u001b[0m\u001b[0;34m(\u001b[0m\u001b[0;34m)\u001b[0m\u001b[0;34m\u001b[0m\u001b[0;34m\u001b[0m\u001b[0m\n\u001b[0m",
      "\u001b[0;32m/var/folders/h2/_w89d9ld5wx2h4jvzmgfxsm00000gn/T/ipykernel_29026/1914494579.py\u001b[0m in \u001b[0;36mrun\u001b[0;34m(self)\u001b[0m\n\u001b[1;32m     61\u001b[0m         \u001b[0;32mwhile\u001b[0m \u001b[0;32mTrue\u001b[0m\u001b[0;34m:\u001b[0m\u001b[0;34m\u001b[0m\u001b[0;34m\u001b[0m\u001b[0m\n\u001b[1;32m     62\u001b[0m             \u001b[0mself\u001b[0m\u001b[0;34m.\u001b[0m\u001b[0mshow_instructions\u001b[0m\u001b[0;34m(\u001b[0m\u001b[0;34m)\u001b[0m\u001b[0;34m\u001b[0m\u001b[0;34m\u001b[0m\u001b[0m\n\u001b[0;32m---> 63\u001b[0;31m             \u001b[0mchoice\u001b[0m \u001b[0;34m=\u001b[0m \u001b[0minput\u001b[0m\u001b[0;34m(\u001b[0m\u001b[0;34m\"What would you like to do? \"\u001b[0m\u001b[0;34m)\u001b[0m\u001b[0;34m\u001b[0m\u001b[0;34m\u001b[0m\u001b[0m\n\u001b[0m\u001b[1;32m     64\u001b[0m             \u001b[0;32mif\u001b[0m \u001b[0mchoice\u001b[0m \u001b[0;34m==\u001b[0m \u001b[0;34m\"1\"\u001b[0m\u001b[0;34m:\u001b[0m\u001b[0;34m\u001b[0m\u001b[0;34m\u001b[0m\u001b[0m\n\u001b[1;32m     65\u001b[0m                 \u001b[0;32mif\u001b[0m \u001b[0mmy_cart\u001b[0m\u001b[0;34m.\u001b[0m\u001b[0mitems\u001b[0m\u001b[0;34m:\u001b[0m\u001b[0;34m\u001b[0m\u001b[0;34m\u001b[0m\u001b[0m\n",
      "\u001b[0;32m~/opt/anaconda3/lib/python3.9/site-packages/ipykernel/kernelbase.py\u001b[0m in \u001b[0;36mraw_input\u001b[0;34m(self, prompt)\u001b[0m\n\u001b[1;32m   1004\u001b[0m                 \u001b[0;34m\"raw_input was called, but this frontend does not support input requests.\"\u001b[0m\u001b[0;34m\u001b[0m\u001b[0;34m\u001b[0m\u001b[0m\n\u001b[1;32m   1005\u001b[0m             )\n\u001b[0;32m-> 1006\u001b[0;31m         return self._input_request(\n\u001b[0m\u001b[1;32m   1007\u001b[0m             \u001b[0mstr\u001b[0m\u001b[0;34m(\u001b[0m\u001b[0mprompt\u001b[0m\u001b[0;34m)\u001b[0m\u001b[0;34m,\u001b[0m\u001b[0;34m\u001b[0m\u001b[0;34m\u001b[0m\u001b[0m\n\u001b[1;32m   1008\u001b[0m             \u001b[0mself\u001b[0m\u001b[0;34m.\u001b[0m\u001b[0m_parent_ident\u001b[0m\u001b[0;34m[\u001b[0m\u001b[0;34m\"shell\"\u001b[0m\u001b[0;34m]\u001b[0m\u001b[0;34m,\u001b[0m\u001b[0;34m\u001b[0m\u001b[0;34m\u001b[0m\u001b[0m\n",
      "\u001b[0;32m~/opt/anaconda3/lib/python3.9/site-packages/ipykernel/kernelbase.py\u001b[0m in \u001b[0;36m_input_request\u001b[0;34m(self, prompt, ident, parent, password)\u001b[0m\n\u001b[1;32m   1049\u001b[0m             \u001b[0;32mexcept\u001b[0m \u001b[0mKeyboardInterrupt\u001b[0m\u001b[0;34m:\u001b[0m\u001b[0;34m\u001b[0m\u001b[0;34m\u001b[0m\u001b[0m\n\u001b[1;32m   1050\u001b[0m                 \u001b[0;31m# re-raise KeyboardInterrupt, to truncate traceback\u001b[0m\u001b[0;34m\u001b[0m\u001b[0;34m\u001b[0m\u001b[0m\n\u001b[0;32m-> 1051\u001b[0;31m                 \u001b[0;32mraise\u001b[0m \u001b[0mKeyboardInterrupt\u001b[0m\u001b[0;34m(\u001b[0m\u001b[0;34m\"Interrupted by user\"\u001b[0m\u001b[0;34m)\u001b[0m \u001b[0;32mfrom\u001b[0m \u001b[0;32mNone\u001b[0m\u001b[0;34m\u001b[0m\u001b[0;34m\u001b[0m\u001b[0m\n\u001b[0m\u001b[1;32m   1052\u001b[0m             \u001b[0;32mexcept\u001b[0m \u001b[0mException\u001b[0m\u001b[0;34m:\u001b[0m\u001b[0;34m\u001b[0m\u001b[0;34m\u001b[0m\u001b[0m\n\u001b[1;32m   1053\u001b[0m                 \u001b[0mself\u001b[0m\u001b[0;34m.\u001b[0m\u001b[0mlog\u001b[0m\u001b[0;34m.\u001b[0m\u001b[0mwarning\u001b[0m\u001b[0;34m(\u001b[0m\u001b[0;34m\"Invalid Message:\"\u001b[0m\u001b[0;34m,\u001b[0m \u001b[0mexc_info\u001b[0m\u001b[0;34m=\u001b[0m\u001b[0;32mTrue\u001b[0m\u001b[0;34m)\u001b[0m\u001b[0;34m\u001b[0m\u001b[0;34m\u001b[0m\u001b[0m\n",
      "\u001b[0;31mKeyboardInterrupt\u001b[0m: Interrupted by user"
     ]
    }
   ],
   "source": [
    "from IPython.display import clear_output as clear\n",
    "# Create a class called cart that retains items and has methods to add, remove, and show\n",
    "\n",
    "# This class is responsible for the cart object aand actions of that cart\n",
    "class Cart():\n",
    "    def __init__(self):\n",
    "        self.items = {}\n",
    "        \n",
    "    def add(self):\n",
    "        clear()\n",
    "        new_item = input(\"What do you want to get? \")\n",
    "        quantity = int(input(f\"How many {new_item}s do you want? (insert number) \"))\n",
    "        if new_item not in self.items.keys():\n",
    "            self.items[new_item] = quantity\n",
    "        else:\n",
    "            self.items[new_item] += quantity\n",
    "        print(f\"{quantity} {new_item}s have in the cart\")\n",
    "        \n",
    "    def remove(self):\n",
    "        clear()\n",
    "        discard = input(\"What would you like to toss?\")\n",
    "        quantity = int(input(\"How many would you like to toss? (give a number)\" ))\n",
    "        try:\n",
    "            self.items[discard] -= quantity\n",
    "            if self.items[discard] <= 0:\n",
    "                del self.items[discard]    \n",
    "        except:\n",
    "            print(f\"{discard} was not in the cart\")\n",
    "        self.show()\n",
    "        \n",
    "    def show(self):\n",
    "        print(\"Your cart has the listed items and quantities\")\n",
    "        print(\"Items --- Quantity\")\n",
    "        for item,quantity in self.items.items():\n",
    "            print(f\"{item} --- {quantity}\")\n",
    "            \n",
    "    def checkout(self):\n",
    "        clear()\n",
    "        if not self.items:\n",
    "            print(\"Thanks for Shopping\")\n",
    "            self.show()\n",
    "        else:\n",
    "            print(\"Buh-Bye, please purchase something next time. \")\n",
    "\n",
    "# Control the logic an flow of our program\n",
    "class Main:\n",
    "    def show_instructions(self):\n",
    "        print(\"\"\"\n",
    "        Welcome to the online Shopping Program.\n",
    "        Options:\n",
    "        [1] Show Current Cart\n",
    "        [2] Add Item\n",
    "        [3] Remove Item\n",
    "        [4] Quit\n",
    "        \"\"\")\n",
    "        \n",
    "        # Driver Code\n",
    "    def run(self):\n",
    "        my_cart = Cart()\n",
    "\n",
    "        while True:\n",
    "            self.show_instructions()\n",
    "            choice = input(\"What would you like to do? \")\n",
    "            if choice == \"1\":\n",
    "                if my_cart.items:\n",
    "                    my_cart.show()\n",
    "                else:\n",
    "                    print(\"Your cart is empty... Start shopping\")\n",
    "\n",
    "            elif choice == \"2\":\n",
    "                my_cart.add()\n",
    "            elif choice == \"3\":\n",
    "                if my_cart.items:\n",
    "                    my_cart.remove()\n",
    "                else:\n",
    "                    print(\"Your cart is empty... You can't remove what isn't there\")\n",
    "\n",
    "            elif choice == \"4\":\n",
    "                my_cart.checkout()\n",
    "                break\n",
    "            else:\n",
    "                print(\"Invalid response... please try again \")\n",
    "                \n",
    "my_program = Main()\n",
    "my_program.run()"
   ]
  },
  {
   "cell_type": "markdown",
   "metadata": {},
   "source": [
    "# working with APIs"
   ]
  },
  {
   "cell_type": "markdown",
   "metadata": {},
   "source": [
    "<p> What exactly is an API? <br> <br>\n",
    "API is the acronym for Application Programming Interface, which is a software intermediary that allows two applications to talk to each other. Each time you use an app like Facebook, send an instant message, or check the weather on your phone, you're using an API. </p>"
   ]
  },
  {
   "cell_type": "markdown",
   "metadata": {},
   "source": [
    "### The Poke API  allows you to retreive a pokemon's information from PokeAPI https://pokeapi.co/\n",
    "\n"
   ]
  },
  {
   "cell_type": "code",
   "execution_count": null,
   "metadata": {},
   "outputs": [],
   "source": [
    "# making an API call\n",
    "import requests\n",
    "\n",
    "r = requests.get(\"https://pokeapi.co/api/v2/pokemon/haunter\")\n",
    "if r.status_code == 200:\n",
    "    data = r.json()\n",
    "    \n",
    "print(data.keys())\n"
   ]
  },
  {
   "cell_type": "markdown",
   "metadata": {},
   "source": [
    "### Display a Pokemon's name, weight, abilities, and types"
   ]
  },
  {
   "cell_type": "code",
   "execution_count": null,
   "metadata": {},
   "outputs": [],
   "source": [
    "# get the name\n",
    "name = data['name']\n",
    "print(name)"
   ]
  },
  {
   "cell_type": "code",
   "execution_count": null,
   "metadata": {},
   "outputs": [],
   "source": [
    "# get types\n",
    "types = data[\"types\"][0][\"type\"][\"name\"]\n",
    "types = [pokemon_type [\"type\"][\"name\"] for pokemon_type in data[\"types\"]]\n",
    "print(types)"
   ]
  },
  {
   "cell_type": "code",
   "execution_count": null,
   "metadata": {},
   "outputs": [],
   "source": [
    "# get weight\n",
    "weight = data[\"weight\"]\n",
    "print(weight)"
   ]
  },
  {
   "cell_type": "code",
   "execution_count": null,
   "metadata": {},
   "outputs": [],
   "source": [
    "# get abilities\n",
    "abilities = data[\"abilities\"][0][\"ability\"][\"name\"]\n",
    "abilities = [pokemon_abilities [\"ability\"][\"name\"] for pokemon_abilities in data[\"abilities\"]]\n",
    "print(abilities)"
   ]
  },
  {
   "cell_type": "code",
   "execution_count": null,
   "metadata": {},
   "outputs": [],
   "source": [
    "# Create a structure for a single pokemon\n",
    "haunter = {\n",
    "    \"name\" : name,\n",
    "    \"abilities\" : abilities,\n",
    "    \"weight\" : weight,\n",
    "    \"types\" : types\n",
    "}"
   ]
  },
  {
   "cell_type": "code",
   "execution_count": null,
   "metadata": {},
   "outputs": [],
   "source": [
    "haunter"
   ]
  },
  {
   "cell_type": "markdown",
   "metadata": {},
   "source": [
    "#### Create a function to Pull in your own Pokemon's data "
   ]
  },
  {
   "cell_type": "code",
   "execution_count": null,
   "metadata": {},
   "outputs": [],
   "source": [
    "def poke_api_call(pokemon):\n",
    "    r = requests.get(f'https://pokeapi.co/api/v2/pokemon/{pokemon}')\n",
    "    if r.status_code == 200:\n",
    "        data = r.json()\n",
    "# print(data.keys())\n",
    "        types = [pokemon_type['type']['name'] for pokemon_type in data ['types']]\n",
    "        abilities = [pokemon_ability['ability']['name'] for pokemon_ability in data['abilities']]\n",
    "        name = data['name']\n",
    "        weight = data['weight']\n",
    "        a_pokemon = {\n",
    "        'name': name,\n",
    "        'abilities': abilities,\n",
    "        'weight': weight,\n",
    "        'types': types\n",
    "        }\n",
    "\n",
    "        return a_pokemon\n",
    "        \n",
    "        "
   ]
  },
  {
   "cell_type": "code",
   "execution_count": null,
   "metadata": {},
   "outputs": [],
   "source": [
    "poke_api_call(\"squirtle\")"
   ]
  },
  {
   "cell_type": "code",
   "execution_count": null,
   "metadata": {},
   "outputs": [],
   "source": [
    "from random import randint\n",
    "# Random number generated for each pokemon id\n",
    "random_team = [randint(1,898) for i in range(6)]\n",
    "\n",
    "your_team = ['electabuzz', 'haunter','tyranitar','blaziken','marowak','dragonair']\n",
    "\n",
    "print(random_team)\n"
   ]
  },
  {
   "cell_type": "markdown",
   "metadata": {},
   "source": [
    "#### Use your function to create a dictionary of your Johto League 6  (favorite 6 pokemon)"
   ]
  },
  {
   "cell_type": "code",
   "execution_count": null,
   "metadata": {},
   "outputs": [],
   "source": [
    "# Place all 6 of your pokemon on the object below, each pokemon should have at least as much info as Pikachu did.\n",
    "my_six_pokemon = {}\n",
    "\n",
    "for member in random_team:\n",
    "    poke_member = poke_api_call(member)\n",
    "    my_six_pokemon[poke_member[\"name\"].title()] = poke_member\n",
    "\n",
    "my_six_pokemon"
   ]
  },
  {
   "cell_type": "markdown",
   "metadata": {},
   "source": [
    "## Lets create a class called 'Pokemon' and create our pokemon as instances"
   ]
  },
  {
   "cell_type": "code",
   "execution_count": null,
   "metadata": {},
   "outputs": [],
   "source": [
    "class Pokemon():\n",
    "    def __init__(self, name):\n",
    "        self.name = name\n",
    "        self.types = []\n",
    "        self.abilities = []\n",
    "        self.weight = None\n",
    "        self.poke_api_call()\n",
    "        \n",
    "    def poke_api_call(self):\n",
    "        r = requests.get(f'https://pokeapi.co/api/v2/pokemon/{self.name}')\n",
    "        if r.status_code == 200:\n",
    "            pokemon = r.json()\n",
    "        else:\n",
    "            print(f\"Ran into an issue {r.status_code}\")\n",
    "            return\n",
    "        \n",
    "        self.name = pokemon[\"name\"]\n",
    "        self.types = [poke[\"type\"][\"name\"] for poke in pokemon[\"types\"]]\n",
    "        self.abilities = [poke[\"ability\"][\"name\"] for poke in pokemon[\"abilities\"]]\n",
    "        self.weight = pokemon[\"weight\"]\n",
    "        print(f\"{self.name}'s data has been updated!'\")\n",
    "        \n",
    "    def __repr__(self):\n",
    "        return f\"You caught a {self.name}\"\n"
   ]
  },
  {
   "cell_type": "markdown",
   "metadata": {},
   "source": [
    "### Let's Catch some Pokemon"
   ]
  },
  {
   "cell_type": "code",
   "execution_count": null,
   "metadata": {},
   "outputs": [],
   "source": [
    "pikachu = Pokemon(\"pikachu\")\n",
    "print(pikachu.name)"
   ]
  },
  {
   "cell_type": "code",
   "execution_count": null,
   "metadata": {},
   "outputs": [],
   "source": [
    "pokedex = {} "
   ]
  },
  {
   "cell_type": "markdown",
   "metadata": {},
   "source": [
    "## Exercise 1:"
   ]
  },
  {
   "cell_type": "markdown",
   "metadata": {},
   "source": [
    "### Create a Method prints an image of your pokemon\n",
    "\n",
    "<p>HINT: You may need another attribute as well to store your image url within. </p>"
   ]
  },
  {
   "cell_type": "code",
   "execution_count": null,
   "metadata": {},
   "outputs": [],
   "source": [
    "# Display an image in Jupyter notebook\n",
    "from IPython.display import Image\n",
    "\n",
    "# display(Image( 'https://i.redd.it/45n4mhusa8l41.jpg', width = 300))\n"
   ]
  },
  {
   "cell_type": "code",
   "execution_count": null,
   "metadata": {},
   "outputs": [],
   "source": [
    "class Pokemon(Evolver, Move_Tutor):\n",
    "    def __init__(self,name):\n",
    "        self.name = name\n",
    "        self.types = []\n",
    "        self.abilities = []\n",
    "        self.weight = None\n",
    "        self.image = None\n",
    "        self.move_list = []\n",
    "        self.learned_list = []\n",
    "        self.poke_api_call()\n",
    "\n",
    "    def poke_api_call(self):\n",
    "        r = requests.get(f'https://pokeapi.co/api/v2/pokemon/{self.name}')\n",
    "        if r.status_code == 200:\n",
    "            pokemon = r.json()\n",
    "        else:\n",
    "            print(f\"Ran into an issue {r.status_code}\")\n",
    "            return\n",
    "        self.name = pokemon['name']\n",
    "        self.types = [ poke['type']['name'] for poke in pokemon['types'] ]\n",
    "        self.abilities = [ poke['ability']['name'] for poke in pokemon['abilities'] ]\n",
    "        self.weight = pokemon['weight']\n",
    "        self.image = pokemon['sprites']['other']['official-artwork']['front_default']\n",
    "        self.move_list = [poke['move']['name'] for poke in pokemon['moves']]\n",
    "        print(f\"{self.name}'s data has been updated!\")\n",
    "\n",
    "    def __repr__(self):\n",
    "        return f\"You caught a {self.name}!\"\n",
    "    \n",
    "    def display(self):\n",
    "        display(Image(self.image))\n"
   ]
  },
  {
   "cell_type": "code",
   "execution_count": null,
   "metadata": {},
   "outputs": [],
   "source": [
    "pikachu = Pokemon(\"squirtle\")\n",
    "print(pikachu.name)\n",
    "pikachu.display()"
   ]
  },
  {
   "cell_type": "code",
   "execution_count": null,
   "metadata": {},
   "outputs": [],
   "source": [
    "# Calling our new method\n"
   ]
  },
  {
   "cell_type": "markdown",
   "metadata": {},
   "source": [
    "## Exercise 2:"
   ]
  },
  {
   "cell_type": "markdown",
   "metadata": {},
   "source": [
    "### Create a Method that evolves your Pokemon\n",
    "If your pokemon can't evolve any further print a message that says \"\\<name of pokemon> can't evolve.\""
   ]
  },
  {
   "cell_type": "code",
   "execution_count": null,
   "metadata": {},
   "outputs": [],
   "source": [
    "from time import sleep\n",
    "\n",
    "class Evolver:\n",
    "    \n",
    "    def evolve(self):\n",
    "        # API call for species\n",
    "        r = requests.get(f\"https://pokeapi.co/api/v2/pokemon-species/{self.name}/\")\n",
    "        if r.status_code == 200:\n",
    "            pokemon_species = r.json()\n",
    "        else:\n",
    "            print(f\"Ran into an issue {r.status_code}\")\n",
    "            return\n",
    "                \n",
    "        # API call for evolutionary chain\n",
    "        r = requests.get(pokemon_species[\"evolution_chain\"][\"url\"])\n",
    "        if r.status_code == 200:\n",
    "            ev_chain = r.json()\n",
    "            ev_chain = ev_chain[\"chain\"]\n",
    "        else:\n",
    "            print(f\"Ran into an issue {r.status_code}\")\n",
    "            return\n",
    "                        \n",
    "        # Get Base name\n",
    "        base_name = ev_chain['species']['name']\n",
    "                        \n",
    "        evolution = ev_chain['evolves_to'][0]\n",
    "        evolution_name = evolution['species']['name']\n",
    "                        \n",
    "        # Evolution 1\n",
    "        if base_name == self.name:\n",
    "            pass\n",
    "                        \n",
    "        # Evolution 2\n",
    "        elif evolution_name == self.name:\n",
    "            evolution_name = evolution[\"evolves_to\"][0][\"species\"][\"name\"]\n",
    "        else:\n",
    "            print(f\"You cant evolve {self.name} again.\")\n",
    "            return\n",
    "                        \n",
    "        print('.......')\n",
    "        sleep(1)\n",
    "        print(f\"Your {self.name} is evolving!?!?\")\n",
    "        self.display()\n",
    "        sleep(1)\n",
    "        print('...............')\n",
    "        self.name = evolution_name\n",
    "        self.poke_api_call()\n",
    "        self.display()\n",
    "        \n",
    "        \n",
    "                        "
   ]
  },
  {
   "cell_type": "markdown",
   "metadata": {},
   "source": [
    "Now let's evolve a few"
   ]
  },
  {
   "cell_type": "code",
   "execution_count": null,
   "metadata": {
    "scrolled": true
   },
   "outputs": [],
   "source": [
    "charmander = Pokemon(\"squirtle\")"
   ]
  },
  {
   "cell_type": "code",
   "execution_count": null,
   "metadata": {},
   "outputs": [],
   "source": [
    "charmander.evolve()"
   ]
  },
  {
   "cell_type": "code",
   "execution_count": null,
   "metadata": {},
   "outputs": [],
   "source": []
  },
  {
   "cell_type": "markdown",
   "metadata": {},
   "source": [
    "#  Final Exercise: <br> <br>Create a Move_Tutor Class that will allow the Pokemon Class to inherit a move list.\n",
    "<br>\n",
    "<p>for an added bonus you can make sure that if a pokemon has 4 moves the user can choose one of them to replace with a new move. </p>"
   ]
  },
  {
   "cell_type": "code",
   "execution_count": null,
   "metadata": {},
   "outputs": [],
   "source": [
    "import random\n",
    "\n",
    "class Move_Tutor:\n",
    "    def __init__(self):\n",
    "        self.learned_list = []\n",
    "        \n",
    "    def teach_move(self):\n",
    "        self.display()\n",
    "        while True:\n",
    "            self.view_menu()\n",
    "            choice = input(\"What do you choose? \")\n",
    "            if choice.lower() == \"train\":\n",
    "                self.train_move()           \n",
    "            elif choice.lower() == \"look\":\n",
    "                self.show_moves()\n",
    "            elif choice.lower() == \"what\":\n",
    "                print(\"\\nWow! Such potential!\")\n",
    "                print(*self.move_list, sep = \", \")       \n",
    "            elif choice.lower() == \"quit\":\n",
    "                self.goodbye_randomizer()\n",
    "                break\n",
    "    \n",
    "    def show_moves(self):\n",
    "        print(f\"{self.name} moves: \")\n",
    "        for i in range(len(self.learned_list)):\n",
    "            print(self.learned_list[i])\n",
    "            \n",
    "    def view_menu(self):\n",
    "        print(\"\"\"\n",
    "                    Lets train your Pokemon!\n",
    "                    Your only allowed to have four learned moves,\n",
    "                    Choose whats in the parenthesis wisely!\n",
    "                    \n",
    "                        (Train) your Pokemon!\n",
    "                        (Look) at your Pokemon move list!\n",
    "                        (What) can your Pokemon learn!\n",
    "                        (Quit)\n",
    "                  \"\"\")\n",
    "    \n",
    "    def train_move(self):\n",
    "        if len(self.learned_list) == 4:\n",
    "            replace = input(\"Your Pokemon can only learn four moves, would you like to replace a move(yes/no)? \")\n",
    "                    \n",
    "            if replace.lower() == \"yes\":\n",
    "                replace_too = input(\"What would you like to replace? \")\n",
    "                add_too = input(\"What would you like to add? \")\n",
    "                self.learned_list.remove(replace_too)\n",
    "                self.learned_list.append(add_too)\n",
    "            elif replace.lower() == \"no\":\n",
    "                print(\"Fair Enough\")\n",
    "            else:\n",
    "                print(\"Not an option.\")\n",
    "        else:\n",
    "            move = input(f\"What move would you like to teach {self.name}? \")\n",
    "                    \n",
    "            if move.lower() in self.move_list:\n",
    "                self.learned_list.append(move)\n",
    "                print(f\"{self.name} just learned {move}!\")\n",
    "            else:\n",
    "                print(f\"{move} is not a move {self.name} can learn.\")\n",
    "                move = input(f\"What move would you like to teach {self.name}? \")\n",
    "                \n",
    "    def goodbye_randomizer(self):\n",
    "        goodbyes = [\"Whoa! See ya later Gunshow!\",\n",
    "                    \"Nice Reps, Keep up the good work!\",\n",
    "                    \"Didnt even break a sweat!\"\n",
    "                    ]\n",
    "        print(random.choice(goodbyes)) \n",
    "                    \n",
    "    \n",
    "        "
   ]
  },
  {
   "cell_type": "code",
   "execution_count": 15,
   "metadata": {},
   "outputs": [
    {
     "ename": "NameError",
     "evalue": "name 'requests' is not defined",
     "output_type": "error",
     "traceback": [
      "\u001b[0;31m---------------------------------------------------------------------------\u001b[0m",
      "\u001b[0;31mNameError\u001b[0m                                 Traceback (most recent call last)",
      "\u001b[0;32m/var/folders/h2/_w89d9ld5wx2h4jvzmgfxsm00000gn/T/ipykernel_29026/4219753900.py\u001b[0m in \u001b[0;36m<module>\u001b[0;34m\u001b[0m\n\u001b[0;32m----> 1\u001b[0;31m \u001b[0mPokemon\u001b[0m\u001b[0;34m(\u001b[0m\u001b[0;34m\"mew\"\u001b[0m\u001b[0;34m)\u001b[0m\u001b[0;34m.\u001b[0m\u001b[0mteach_move\u001b[0m\u001b[0;34m(\u001b[0m\u001b[0;34m)\u001b[0m\u001b[0;34m\u001b[0m\u001b[0;34m\u001b[0m\u001b[0m\n\u001b[0m",
      "\u001b[0;32m/var/folders/h2/_w89d9ld5wx2h4jvzmgfxsm00000gn/T/ipykernel_29026/4276584562.py\u001b[0m in \u001b[0;36m__init__\u001b[0;34m(self, name)\u001b[0m\n\u001b[1;32m      5\u001b[0m         \u001b[0mself\u001b[0m\u001b[0;34m.\u001b[0m\u001b[0mabilities\u001b[0m \u001b[0;34m=\u001b[0m \u001b[0;34m[\u001b[0m\u001b[0;34m]\u001b[0m\u001b[0;34m\u001b[0m\u001b[0;34m\u001b[0m\u001b[0m\n\u001b[1;32m      6\u001b[0m         \u001b[0mself\u001b[0m\u001b[0;34m.\u001b[0m\u001b[0mweight\u001b[0m \u001b[0;34m=\u001b[0m \u001b[0;32mNone\u001b[0m\u001b[0;34m\u001b[0m\u001b[0;34m\u001b[0m\u001b[0m\n\u001b[0;32m----> 7\u001b[0;31m         \u001b[0mself\u001b[0m\u001b[0;34m.\u001b[0m\u001b[0mpoke_api_call\u001b[0m\u001b[0;34m(\u001b[0m\u001b[0;34m)\u001b[0m\u001b[0;34m\u001b[0m\u001b[0;34m\u001b[0m\u001b[0m\n\u001b[0m\u001b[1;32m      8\u001b[0m \u001b[0;34m\u001b[0m\u001b[0m\n\u001b[1;32m      9\u001b[0m     \u001b[0;32mdef\u001b[0m \u001b[0mpoke_api_call\u001b[0m\u001b[0;34m(\u001b[0m\u001b[0mself\u001b[0m\u001b[0;34m)\u001b[0m\u001b[0;34m:\u001b[0m\u001b[0;34m\u001b[0m\u001b[0;34m\u001b[0m\u001b[0m\n",
      "\u001b[0;32m/var/folders/h2/_w89d9ld5wx2h4jvzmgfxsm00000gn/T/ipykernel_29026/4276584562.py\u001b[0m in \u001b[0;36mpoke_api_call\u001b[0;34m(self)\u001b[0m\n\u001b[1;32m      8\u001b[0m \u001b[0;34m\u001b[0m\u001b[0m\n\u001b[1;32m      9\u001b[0m     \u001b[0;32mdef\u001b[0m \u001b[0mpoke_api_call\u001b[0m\u001b[0;34m(\u001b[0m\u001b[0mself\u001b[0m\u001b[0;34m)\u001b[0m\u001b[0;34m:\u001b[0m\u001b[0;34m\u001b[0m\u001b[0;34m\u001b[0m\u001b[0m\n\u001b[0;32m---> 10\u001b[0;31m         \u001b[0mr\u001b[0m \u001b[0;34m=\u001b[0m \u001b[0mrequests\u001b[0m\u001b[0;34m.\u001b[0m\u001b[0mget\u001b[0m\u001b[0;34m(\u001b[0m\u001b[0;34mf'https://pokeapi.co/api/v2/pokemon/{self.name}'\u001b[0m\u001b[0;34m)\u001b[0m\u001b[0;34m\u001b[0m\u001b[0;34m\u001b[0m\u001b[0m\n\u001b[0m\u001b[1;32m     11\u001b[0m         \u001b[0;32mif\u001b[0m \u001b[0mr\u001b[0m\u001b[0;34m.\u001b[0m\u001b[0mstatus_code\u001b[0m \u001b[0;34m==\u001b[0m \u001b[0;36m200\u001b[0m\u001b[0;34m:\u001b[0m\u001b[0;34m\u001b[0m\u001b[0;34m\u001b[0m\u001b[0m\n\u001b[1;32m     12\u001b[0m             \u001b[0mpokemon\u001b[0m \u001b[0;34m=\u001b[0m \u001b[0mr\u001b[0m\u001b[0;34m.\u001b[0m\u001b[0mjson\u001b[0m\u001b[0;34m(\u001b[0m\u001b[0;34m)\u001b[0m\u001b[0;34m\u001b[0m\u001b[0;34m\u001b[0m\u001b[0m\n",
      "\u001b[0;31mNameError\u001b[0m: name 'requests' is not defined"
     ]
    }
   ],
   "source": [
    "Pokemon(\"mew\").teach_move()"
   ]
  },
  {
   "cell_type": "code",
   "execution_count": null,
   "metadata": {},
   "outputs": [],
   "source": []
  }
 ],
 "metadata": {
  "kernelspec": {
   "display_name": "Python 3 (ipykernel)",
   "language": "python",
   "name": "python3"
  },
  "language_info": {
   "codemirror_mode": {
    "name": "ipython",
    "version": 3
   },
   "file_extension": ".py",
   "mimetype": "text/x-python",
   "name": "python",
   "nbconvert_exporter": "python",
   "pygments_lexer": "ipython3",
   "version": "3.9.7"
  }
 },
 "nbformat": 4,
 "nbformat_minor": 4
}
